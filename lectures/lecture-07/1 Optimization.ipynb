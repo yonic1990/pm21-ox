{
 "cells": [
  {
   "cell_type": "markdown",
   "metadata": {},
   "source": [
    "# Optimization\n",
    "\n",
    "Previously, we computed the distance between points on a bee trajectory and a flower.\n",
    "\n",
    "Let's revisit that idea.\n",
    "\n",
    "We will explain the following code in lecture, but except the `make_bee_track` function, there is nothing new here:"
   ]
  },
  {
   "cell_type": "code",
   "execution_count": 1,
   "metadata": {},
   "outputs": [
    {
     "data": {
      "text/plain": [
       "array([42.28498551, 39.31902403, 36.38606549, 33.49478067, 30.65696271,\n",
       "       27.88893783, 25.21370269, 22.66413937, 20.28768304, 18.15244922,\n",
       "       16.35320159, 15.01124417, 14.25630249, 14.18243032, 14.79982968,\n",
       "       16.02881927, 17.74276178, 19.81622073, 22.1484553 , 24.66617117])"
      ]
     },
     "metadata": {},
     "output_type": "display_data"
    },
    {
     "data": {
      "text/plain": [
       "Text(0, 0.5, 'distance')"
      ]
     },
     "execution_count": 1,
     "metadata": {},
     "output_type": "execute_result"
    },
    {
     "data": {
      "image/png": "[encoded data removed]",
      "text/plain": [
       "<Figure size 432x288 with 1 Axes>"
      ]
     },
     "metadata": {
      "needs_background": "light"
     },
     "output_type": "display_data"
    },
    {
     "data": {
      "image/png": "[encoded data removed]",
      "text/plain": [
       "<Figure size 432x288 with 1 Axes>"
      ]
     },
     "metadata": {
      "needs_background": "light"
     },
     "output_type": "display_data"
    }
   ],
   "source": [
    "import numpy as np\n",
    "import matplotlib.pyplot as plt\n",
    "\n",
    "flower = np.array([29.1, 19.1])\n",
    "def make_bee_track(t):\n",
    "    # Here we are using plain Python to\n",
    "    # do this math. We could also use numpy.\n",
    "    pos0 = (-10,3)\n",
    "    velocity = (4.0, 0.2)\n",
    "    pos_x = pos0[0] + t*velocity[0]\n",
    "    pos_y = pos0[1] + t*velocity[1]\n",
    "    return np.array([pos_x,pos_y])\n",
    "\n",
    "t = np.linspace(0,15,20)\n",
    "bee_track = make_bee_track(t)\n",
    "fig, ax = plt.subplots(nrows=1, ncols=1)\n",
    "ax.plot( [flower[0]], [flower[1]], 'or', label='flower' )\n",
    "ax.plot( bee_track[0], bee_track[1], '.-k', label='bee')\n",
    "ax.axis('equal')\n",
    "ax.legend()\n",
    "ax.set_xlabel('x')\n",
    "ax.set_ylabel('y')\n",
    "\n",
    "def my_distance(a,b):\n",
    "    a = np.array(a)\n",
    "    b = np.array(b)\n",
    "    return np.sqrt(np.sum((a-b)**2))\n",
    "\n",
    "distance = np.zeros(bee_track.shape[1])\n",
    "for i in range(bee_track.shape[1]):\n",
    "    bee_pos = bee_track[:,i]\n",
    "    distance[i] = my_distance(bee_pos, flower )\n",
    "display(distance)\n",
    "\n",
    "fig, ax = plt.subplots(nrows=1, ncols=1)\n",
    "ax.plot( t, distance )\n",
    "ax.set_xlabel('t')\n",
    "ax.set_ylabel('distance')"
   ]
  },
  {
   "cell_type": "markdown",
   "metadata": {},
   "source": [
    "Note that in the above, we *parameterized* the bee trajectory by the variable `t` in the function `make_bee_track()`. This means we could get a new point on the track by choosing a new value of `t`. For example:"
   ]
  },
  {
   "cell_type": "code",
   "execution_count": 2,
   "metadata": {},
   "outputs": [
    {
     "name": "stdout",
     "output_type": "stream",
     "text": [
      "[-10.   3.]\n",
      "[-9.6   3.02]\n",
      "[-9.2   3.04]\n",
      "[-6.   3.2]\n"
     ]
    }
   ],
   "source": [
    "print(make_bee_track(0.0))\n",
    "print(make_bee_track(0.1))\n",
    "print(make_bee_track(0.2))\n",
    "print(make_bee_track(1.0))"
   ]
  },
  {
   "cell_type": "markdown",
   "metadata": {},
   "source": [
    "Given the plot of distance versus t above, we can see the distance is minimized when t is near 10. What is the bee's position when t is 10?"
   ]
  },
  {
   "cell_type": "code",
   "execution_count": 3,
   "metadata": {},
   "outputs": [
    {
     "name": "stdout",
     "output_type": "stream",
     "text": [
      "[30.  5.]\n"
     ]
    }
   ],
   "source": [
    "print(make_bee_track(10))"
   ]
  },
  {
   "cell_type": "markdown",
   "metadata": {},
   "source": [
    "We can check back to the xy plot to see, indeed, this point is pretty close to the flower.\n",
    "\n",
    "What if we want to know, however, exactly the closest point? There are several ways to find this. Here we are going to use a \"brute force\" approach which will work on many different problems. Specifically, we will use [scipy.optimize.minimize_scalar](https://docs.scipy.org/doc/scipy/reference/generated/scipy.optimize.minimize_scalar.html). The overall idea of this kind of *numerical optimization* is that we find the best fitting parameter to minimize our \"error\".\n",
    "\n",
    "In this example, we are not so much concerned with the exact algorithm being used, but with the way we call this algorithm.\n",
    "\n",
    "We will make a class to do this:"
   ]
  },
  {
   "cell_type": "code",
   "execution_count": 4,
   "metadata": {},
   "outputs": [
    {
     "name": "stdout",
     "output_type": "stream",
     "text": [
      "t: 0.0 -> dist: 42.284985514955544\n",
      "t: 1.0 -> dist: 38.533362168385985\n",
      "t: 2.6180339999999998 -> dist: 32.59108194465938\n",
      "t: 62.59129724429421 -> dist: 211.29554879111376\n",
      "t: 2.6180339999999998 -> dist: 32.59108194465938\n",
      "t: 25.525781468370084 -> dist: 63.95530046803113\n",
      "t: 11.368014669503447 -> dist: 15.224072635976565\n",
      "t: 11.182165378674357 -> dist: 14.962630728271483\n",
      "t: 9.498980311019054 -> dist: 14.243060828848716\n",
      "t: 6.870692772384349 -> dist: 18.756625572603213\n",
      "t: 9.932591048754206 -> dist: 14.127552061912702\n",
      "t: 9.955643819606893 -> dist: 14.127362195018625\n",
      "t: 9.951402223116967 -> dist: 14.127351833960489\n",
      "t: 9.95137155931316 -> dist: 14.127351833427115\n",
      "t: 9.951371706603458 -> dist: 14.127351833427124\n",
      "t: 9.95137141202286 -> dist: 14.127351833427127\n"
     ]
    }
   ],
   "source": [
    "class DistanceFinder:\n",
    "    def __init__(self, flower):\n",
    "        self.flower = flower\n",
    "    def calc_distance(self, t):\n",
    "        x1, y1 = self.flower\n",
    "        x2, y2 = make_bee_track(t)\n",
    "        dist = my_distance((x1,y1), (x2,y2))\n",
    "        print(f't: {t} -> dist: {dist}')\n",
    "        return dist\n",
    "    \n",
    "distance_finder = DistanceFinder(flower)\n",
    "\n",
    "import scipy.optimize\n",
    "result = scipy.optimize.minimize_scalar(distance_finder.calc_distance)"
   ]
  },
  {
   "cell_type": "code",
   "execution_count": 5,
   "metadata": {},
   "outputs": [],
   "source": [
    "scipy.optimize.minimize_scalar?"
   ]
  },
  {
   "cell_type": "code",
   "execution_count": 6,
   "metadata": {},
   "outputs": [
    {
     "data": {
      "text/plain": [
       "     fun: 14.127351833427115\n",
       "    nfev: 16\n",
       "     nit: 11\n",
       " success: True\n",
       "       x: 9.95137155931316"
      ]
     },
     "execution_count": 6,
     "metadata": {},
     "output_type": "execute_result"
    }
   ],
   "source": [
    "result"
   ]
  },
  {
   "cell_type": "code",
   "execution_count": 7,
   "metadata": {},
   "outputs": [
    {
     "data": {
      "text/plain": [
       "scipy.optimize.optimize.OptimizeResult"
      ]
     },
     "execution_count": 7,
     "metadata": {},
     "output_type": "execute_result"
    }
   ],
   "source": [
    "type(result)"
   ]
  },
  {
   "cell_type": "code",
   "execution_count": 8,
   "metadata": {},
   "outputs": [
    {
     "data": {
      "text/plain": [
       "9.95137155931316"
      ]
     },
     "execution_count": 8,
     "metadata": {},
     "output_type": "execute_result"
    }
   ],
   "source": [
    "result.x"
   ]
  },
  {
   "cell_type": "code",
   "execution_count": 9,
   "metadata": {},
   "outputs": [
    {
     "name": "stdout",
     "output_type": "stream",
     "text": [
      "t: 9.95137155931316 -> dist: 14.127351833427115\n",
      "14.127351833427115\n",
      "t: 9.95 -> dist: 14.127352901375403\n",
      "14.127352901375403\n",
      "t: 9.96 -> dist: 14.127394097992738\n",
      "14.127394097992738\n"
     ]
    }
   ],
   "source": [
    "print(distance_finder.calc_distance(9.95137155931316))\n",
    "print(distance_finder.calc_distance(9.950))\n",
    "print(distance_finder.calc_distance(9.960))"
   ]
  },
  {
   "cell_type": "code",
   "execution_count": 10,
   "metadata": {},
   "outputs": [
    {
     "data": {
      "text/plain": [
       "array([29.80548624,  4.99027431])"
      ]
     },
     "execution_count": 10,
     "metadata": {},
     "output_type": "execute_result"
    }
   ],
   "source": [
    "# Where is the bee for this value of `t`?\n",
    "make_bee_track(9.95137155931316)"
   ]
  }
 ],
 "metadata": {
  "kernelspec": {
   "display_name": "Python 3 (ipykernel)",
   "language": "python",
   "name": "python3"
  },
  "language_info": {
   "codemirror_mode": {
    "name": "ipython",
    "version": 3
   },
   "file_extension": ".py",
   "mimetype": "text/x-python",
   "name": "python",
   "nbconvert_exporter": "python",
   "pygments_lexer": "ipython3",
   "version": "3.8.10"
  }
 },
 "nbformat": 4,
 "nbformat_minor": 4
}
