{
 "cells": [
  {
   "cell_type": "markdown",
   "metadata": {},
   "source": [
    "# PM-21 Python für die Biowissenschaften / Python for the Biosciences\n",
    "\n",
    "- Instructors: Andrew Straw\n",
    "- Tutor: Yonatan Cohen\n",
    "\n",
    "## Course content\n",
    "\n",
    "  - Basics of Python programming\n",
    "  - Introduction to key data science concepts\n",
    "  - Introduction to biological sequence analysis"
   ]
  },
  {
   "cell_type": "markdown",
   "metadata": {},
   "source": [
    "## Who am I (what do I know about programming, data science, and bioinformatics)?\n",
    "\n",
    "[strawlab.org](https://strawlab.org/)"
   ]
  },
  {
   "cell_type": "markdown",
   "metadata": {},
   "source": [
    "## Course format\n",
    "\n",
    "This course will be done in person but can be followed remotely. Lectures will be recorded and uploaded to [Ilias](https://ilias.uni-freiburg.de/goto.php?target=crs_2380796&client_id=unifreiburg) shortly after class. Discussion and live particiaption will be encouraged. Wednesday lectures will approximately go from 10:15 until 12:00 with a break from 11:00 to 11:15. The exercises are be self-paced and the tutor (Yonatan) will available during our exercise time - Monday afternoons from 14:15 to 18:00 - to discuss. Yonatan will attempt to be present online (link in [Ilias](https://ilias.uni-freiburg.de/goto.php?target=crs_2380796&client_id=unifreiburg)) during the exercise time, but priority will be given to those physically present."
   ]
  },
  {
   "cell_type": "markdown",
   "metadata": {},
   "source": [
    "## Feedback\n",
    "\n",
    "We would like to make this course as productive as possible for you. Therefore, we encourage any feedback. This can come after the course is over as part of the official Uni Freiburg course feedback. Additionally, we would be happy to get suggestions and ideas as the course is ongoing."
   ]
  },
  {
   "cell_type": "markdown",
   "metadata": {},
   "source": [
    "## Communication with instructors and tutors during the course\n",
    "\n",
    "We have started a forum room on Ilias. For questions, use this, or ask during the lecture by typing a quesion in Zoom. This lets other students see them and learn from the answers. Almost certainly you will not be the only one with a particular question!\n",
    "\n",
    "If you email us, unless the content is very personal, we may re-post the question into the forum room so everyone has a chance to benefit from the communication."
   ]
  },
  {
   "cell_type": "markdown",
   "metadata": {},
   "source": [
    "## Team work\n",
    "\n",
    "We highly encourage teamwork during this course! You are welcome to discuss any aspect of the course with your colleagues. If you have any ideas how to better support teamwork, please let us know."
   ]
  },
  {
   "cell_type": "markdown",
   "metadata": {},
   "source": [
    "## Grading\n",
    "\n",
    "There is a requirement of active participation to pass the course. This will be checked by verifying that you did the exercises. We have a threshold of 80% of assignments submitted to receive a pass grade."
   ]
  },
  {
   "cell_type": "markdown",
   "metadata": {},
   "source": [
    "## [Ten simple rules for biologists learning to program](https://journals.plos.org/ploscompbiol/article?id=10.1371/journal.pcbi.1005871)"
   ]
  },
  {
   "cell_type": "markdown",
   "metadata": {},
   "source": [
    "## Assignments\n",
    "\n",
    "Shortly each lecture, at the latest by Friday, there will be a new assignment posted on Ilias. We expect that you should be able to finish the exercise by Monday at 18:00, but the exercises will be due Mondays at 23:55. We use Ilias to handle giving the assignments and turning your completed work in."
   ]
  },
  {
   "cell_type": "markdown",
   "metadata": {},
   "source": [
    "## Anaconda and Python installation\n",
    "\n",
    "We have installed the Anaconda edition of Python installed on a server. You are welcome to use this for the entire duration of the class and we can ensure that it works for all the assignments.\n",
    "\n",
    "However, we would like to enable you to run Python yourself. To support this goal, we also recommend that you install Anaconda on your own computer and we will walk through how to do this."
   ]
  },
  {
   "cell_type": "markdown",
   "metadata": {},
   "source": [
    "## Anaconda environments\n",
    "\n",
    "For this course, we have created an Anaconda environment which specifies the exact version of all the packages we will use to ensure no trouble due to version mismatches. We will walk through how to install this environment in class."
   ]
  }
 ],
 "metadata": {
  "interpreter": {
   "hash": "ccf25074823ae812a85d1e93a88d7cc1917c9d66a77f4dbdd42f55ca58b1eefe"
  },
  "kernelspec": {
   "display_name": "Python 3 (ipykernel)",
   "language": "python",
   "name": "python3"
  },
  "language_info": {
   "codemirror_mode": {
    "name": "ipython",
    "version": 3
   },
   "file_extension": ".py",
   "mimetype": "text/x-python",
   "name": "python",
   "nbconvert_exporter": "python",
   "pygments_lexer": "ipython3",
   "version": "3.8.10"
  }
 },
 "nbformat": 4,
 "nbformat_minor": 4
}
