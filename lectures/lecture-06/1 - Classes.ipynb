{
 "cells": [
  {
   "cell_type": "markdown",
   "metadata": {},
   "source": [
    "# Reminder\n",
    "\n",
    "Do you need to register for \"Studienleistung\" in HisInOne?"
   ]
  },
  {
   "cell_type": "markdown",
   "metadata": {},
   "source": [
    "# Note - Anaconda install video uploaded to Ilias"
   ]
  },
  {
   "cell_type": "markdown",
   "metadata": {},
   "source": [
    "# Review - function arguments"
   ]
  },
  {
   "cell_type": "code",
   "execution_count": 1,
   "metadata": {},
   "outputs": [],
   "source": [
    "def my_func(a,b):\n",
    "    print(f\"a: {a}\")\n",
    "    print(f\"b: {b}\")"
   ]
  },
  {
   "cell_type": "code",
   "execution_count": 2,
   "metadata": {},
   "outputs": [
    {
     "name": "stdout",
     "output_type": "stream",
     "text": [
      "a: 1\n",
      "b: 2\n"
     ]
    }
   ],
   "source": [
    "my_func(1,2)"
   ]
  },
  {
   "cell_type": "code",
   "execution_count": 3,
   "metadata": {},
   "outputs": [],
   "source": [
    "def my_func(arg0, arg1=None, arg2=None):\n",
    "    print(f\"arg0: {arg0}\")\n",
    "    print(f\"arg1: {arg1}\")\n",
    "    print(f\"arg2: {arg2}\")"
   ]
  },
  {
   "cell_type": "code",
   "execution_count": 4,
   "metadata": {},
   "outputs": [
    {
     "name": "stdout",
     "output_type": "stream",
     "text": [
      "arg0: 1\n",
      "arg1: 2\n",
      "arg2: None\n"
     ]
    }
   ],
   "source": [
    "my_func(1,2)"
   ]
  },
  {
   "cell_type": "code",
   "execution_count": 11,
   "metadata": {},
   "outputs": [],
   "source": [
    "import numpy as np"
   ]
  },
  {
   "cell_type": "code",
   "execution_count": 24,
   "metadata": {},
   "outputs": [],
   "source": [
    "def my_func(arg0, arg1=None, arg2=None):\n",
    "    if arg1 is None and arg2 is None:\n",
    "        y = np.array(arg0)\n",
    "        assert y.ndim == 1\n",
    "        assert y.shape[0] > 1\n",
    "        x = np.arange(len(y))\n",
    "    elif not arg1 is None and arg2 is None:\n",
    "        x = np.array(arg0)\n",
    "        y = np.array(arg1)\n",
    "        assert y.ndim == 1\n",
    "        assert x.shape == y.shape\n",
    "    else:\n",
    "        raise NotImplementedError()\n",
    "    print(f\"x: {x}\")\n",
    "    print(f\"y: {y}\")"
   ]
  },
  {
   "cell_type": "code",
   "execution_count": 25,
   "metadata": {},
   "outputs": [
    {
     "name": "stdout",
     "output_type": "stream",
     "text": [
      "x: [0 1 2]\n",
      "y: [10  9 10]\n",
      "\n",
      "x: [1 3 5]\n",
      "y: [10  9 10]\n"
     ]
    }
   ],
   "source": [
    "my_func( (10,9,10) )\n",
    "\n",
    "print(\"\")\n",
    "my_func( (1,3,5), (10,9,10) )"
   ]
  },
  {
   "cell_type": "code",
   "execution_count": 17,
   "metadata": {},
   "outputs": [
    {
     "data": {
      "text/plain": [
       "range(0, 10)"
      ]
     },
     "execution_count": 17,
     "metadata": {},
     "output_type": "execute_result"
    }
   ],
   "source": [
    "range(10)"
   ]
  },
  {
   "cell_type": "code",
   "execution_count": 18,
   "metadata": {},
   "outputs": [
    {
     "data": {
      "text/plain": [
       "range(2, 10)"
      ]
     },
     "execution_count": 18,
     "metadata": {},
     "output_type": "execute_result"
    }
   ],
   "source": [
    "range(2, 10)"
   ]
  },
  {
   "cell_type": "code",
   "execution_count": 19,
   "metadata": {},
   "outputs": [
    {
     "data": {
      "text/plain": [
       "range(2, 10, 2)"
      ]
     },
     "execution_count": 19,
     "metadata": {},
     "output_type": "execute_result"
    }
   ],
   "source": [
    "range(2, 10, 2)"
   ]
  },
  {
   "cell_type": "markdown",
   "metadata": {},
   "source": [
    "# Classes\n",
    "\n",
    "Here is an example of a simple class:"
   ]
  },
  {
   "cell_type": "code",
   "execution_count": 27,
   "metadata": {},
   "outputs": [],
   "source": [
    "class MyClass:\n",
    "    def my_function(self):\n",
    "        print(\"This was printed from a function inside the class.\")"
   ]
  },
  {
   "cell_type": "markdown",
   "metadata": {},
   "source": [
    "We'll discuss the \"self\" parameter below. First, let's create an instance of this class:"
   ]
  },
  {
   "cell_type": "code",
   "execution_count": 28,
   "metadata": {},
   "outputs": [],
   "source": [
    "x = MyClass()"
   ]
  },
  {
   "cell_type": "code",
   "execution_count": 29,
   "metadata": {},
   "outputs": [
    {
     "name": "stdout",
     "output_type": "stream",
     "text": [
      "This was printed from a function inside the class.\n"
     ]
    }
   ],
   "source": [
    "x.my_function()"
   ]
  },
  {
   "cell_type": "markdown",
   "metadata": {},
   "source": [
    "## Why classes?\n",
    "\n",
    "The great benefit of classes is that they keep data and functions organized togther. The functions within a class are called \"methods\" and always take the first parameter, \"self\".\n",
    "\n",
    "With small pieces of code, this is not so important, but as the size of software grows larger, this is handy for keeping things organized. Most Python libraries make extensive use of classes.\n",
    "\n",
    "A class is like a template and multiple instances of this template can be created.\n",
    "\n",
    "## Creating an instance of a class\n",
    "\n",
    "Class definitions can have a special function caled `__init__()`. This initialization method, also called constructor, is called when an instance of a class is created. It is used to store variables and perform other setup."
   ]
  },
  {
   "cell_type": "code",
   "execution_count": 30,
   "metadata": {},
   "outputs": [
    {
     "name": "stdout",
     "output_type": "stream",
     "text": [
      "My variable is foo.\n",
      "My variable is bar.\n"
     ]
    }
   ],
   "source": [
    "class MyClass:\n",
    "    def __init__(self):\n",
    "        self.my_variable = \"foo\"\n",
    "    def my_function(self):\n",
    "        print(\"My variable is {}.\".format(self.my_variable))\n",
    "    def set_var(self,new_value):\n",
    "        self.my_variable = new_value\n",
    "        \n",
    "x = MyClass()\n",
    "x.my_function()\n",
    "x.set_var(\"bar\")\n",
    "x.my_function()"
   ]
  },
  {
   "cell_type": "markdown",
   "metadata": {},
   "source": [
    "## What is this `self` thing?\n",
    "\n",
    "As mentioned, `self` is always the first argument of any method. It contains the data (variables) for a specific instance of a class."
   ]
  },
  {
   "cell_type": "code",
   "execution_count": 31,
   "metadata": {},
   "outputs": [
    {
     "name": "stdout",
     "output_type": "stream",
     "text": [
      "The insect (species Bombus terrestris) has a mass of 200 milligrams.\n",
      "The insect (species Bombus terrestris) has a mass of 205 milligrams.\n",
      "The insect (species Apis mellifera) has a mass of 100 milligrams.\n",
      "The insect (species Apis mellifera) has a mass of 110 milligrams.\n",
      "205\n",
      "110\n"
     ]
    }
   ],
   "source": [
    "class Insect:\n",
    "    def __init__(self, species_name, mass):\n",
    "        self.species_name = species_name\n",
    "        self.mass = mass\n",
    "    def print_description(self):\n",
    "        print(\"The insect (species {}) has a mass of {} milligrams.\".format(\n",
    "            self.species_name, self.mass))\n",
    "    def eat(self,amount):\n",
    "        # (This could alternatively be done with `self.mass += amount`.)\n",
    "        self.mass = self.mass + amount\n",
    "    def exercise(self,amount):\n",
    "        self.mass = self.mass - amount\n",
    "        \n",
    "x = Insect(\"Bombus terrestris\", 200)\n",
    "x.print_description()\n",
    "x.eat(10)\n",
    "x.exercise(5)\n",
    "x.print_description()\n",
    "\n",
    "y = Insect(\"Apis mellifera\", 100)\n",
    "y.print_description()\n",
    "y.eat(10)\n",
    "y.print_description()\n",
    "\n",
    "print(x.mass)\n",
    "print(y.mass)"
   ]
  },
  {
   "cell_type": "markdown",
   "metadata": {},
   "source": [
    "You can see we access the value of a variable within a method using `self.variable_name`. Outside the function, we can also access the \"instance variables\" but we need to use the instance name and a dot:"
   ]
  },
  {
   "cell_type": "code",
   "execution_count": 32,
   "metadata": {},
   "outputs": [
    {
     "name": "stdout",
     "output_type": "stream",
     "text": [
      "Bombus terrestris\n"
     ]
    }
   ],
   "source": [
    "print(x.species_name)"
   ]
  },
  {
   "cell_type": "markdown",
   "metadata": {},
   "source": [
    "As mentioned, most Python libraries make use of classes to organize their code. All objects in Python act a lot like instances of classes. For example, the string methods `.strip()` and `.format()` could be defined on a hypothetical `String` class exactly like the methods above. (In reality, they are likely implemented differently for performance reasons.)"
   ]
  }
 ],
 "metadata": {
  "kernelspec": {
   "display_name": "Python 3 (ipykernel)",
   "language": "python",
   "name": "python3"
  },
  "language_info": {
   "codemirror_mode": {
    "name": "ipython",
    "version": 3
   },
   "file_extension": ".py",
   "mimetype": "text/x-python",
   "name": "python",
   "nbconvert_exporter": "python",
   "pygments_lexer": "ipython3",
   "version": "3.8.10"
  }
 },
 "nbformat": 4,
 "nbformat_minor": 4
}
