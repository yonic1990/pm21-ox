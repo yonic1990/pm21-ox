{
 "cells": [
  {
   "cell_type": "markdown",
   "metadata": {},
   "source": [
    "In this notebook, we explore how to detect a moving object on a stationary background."
   ]
  },
  {
   "cell_type": "code",
   "execution_count": null,
   "metadata": {},
   "outputs": [],
   "source": [
    "import numpy as np\n",
    "import matplotlib.pyplot as plt\n",
    "from scipy import ndimage\n",
    "import imageio"
   ]
  },
  {
   "cell_type": "code",
   "execution_count": null,
   "metadata": {},
   "outputs": [],
   "source": [
    "# Here we define a helper function which we call below to make sure\n",
    "# an image is an \"unsigned 8 bit integer\". This way, we know they\n",
    "# take only a single byte per pixel and have a value from 0..255.\n",
    "\n",
    "def ensure_dtype_uint8(arr):\n",
    "    return arr.astype(np.uint8)"
   ]
  },
  {
   "cell_type": "markdown",
   "metadata": {},
   "source": [
    "Here we load the first frame of a movie file saved in the Straw Lab of a fly walking."
   ]
  },
  {
   "cell_type": "code",
   "execution_count": null,
   "metadata": {},
   "outputs": [],
   "source": [
    "fname = \"data/short-movie20170810_182130.vp9-1000.mkv\"\n",
    "reader = imageio.get_reader(fname)\n",
    "for frame in reader:\n",
    "    frame0 = frame[:,:,1] # take only green channel\n",
    "    break"
   ]
  },
  {
   "cell_type": "markdown",
   "metadata": {},
   "source": [
    "Now, we plot the first frame (the first image) in the video. We do this once in grayscale and once in false color."
   ]
  },
  {
   "cell_type": "code",
   "execution_count": null,
   "metadata": {},
   "outputs": [],
   "source": [
    "plt.imshow(frame0, cmap='gray')\n",
    "plt.colorbar();"
   ]
  },
  {
   "cell_type": "code",
   "execution_count": null,
   "metadata": {},
   "outputs": [],
   "source": [
    "plt.imshow(frame0, cmap='jet')\n",
    "plt.colorbar();"
   ]
  },
  {
   "cell_type": "markdown",
   "metadata": {},
   "source": [
    "Note how the false color image lets you see more easily approximately what pixel intensity values are present."
   ]
  },
  {
   "cell_type": "markdown",
   "metadata": {},
   "source": [
    "Now, list make a histogram of the pixel intensity values."
   ]
  },
  {
   "cell_type": "code",
   "execution_count": null,
   "metadata": {},
   "outputs": [],
   "source": [
    "plt.hist(frame0.flat, bins=30);"
   ]
  },
  {
   "cell_type": "markdown",
   "metadata": {},
   "source": [
    "Now we will load all the frames into a single large data structure from disk into memory."
   ]
  },
  {
   "cell_type": "code",
   "execution_count": null,
   "metadata": {},
   "outputs": [],
   "source": [
    "# get all frames into big 3D array\n",
    "(height,width) = frame0.shape\n",
    "all_frames = []\n",
    "reader.set_image_index(0) # return to start of file\n",
    "for frame in reader:\n",
    "    all_frames.append( frame[:,:,1] )\n",
    "all_frames = np.array(all_frames)\n",
    "print(all_frames.shape)\n",
    "n_frames = len(all_frames)"
   ]
  },
  {
   "cell_type": "markdown",
   "metadata": {},
   "source": [
    "Now the entire movie is stored as a large 3D array of size: number of frames x width x height."
   ]
  },
  {
   "cell_type": "markdown",
   "metadata": {},
   "source": [
    "Now, we want to find a fly in the image. The fly is moving, but the background is stationary, so we should be able to determine a single \"background image\". We can try to find the background image in at least two ways: with a \"mean image\" (also \"average image\"), which should average over the fly's position. And with a \"median image\" which should completely eliminate the fly from the backround image if the fly was absent for most of the time from each pixel."
   ]
  },
  {
   "cell_type": "code",
   "execution_count": null,
   "metadata": {},
   "outputs": [],
   "source": [
    "mean_frame = np.mean(all_frames, axis=0)\n",
    "median_frame = np.median(all_frames, axis=0)"
   ]
  },
  {
   "cell_type": "code",
   "execution_count": null,
   "metadata": {},
   "outputs": [],
   "source": [
    "plt.imshow(mean_frame, cmap='jet')\n",
    "plt.colorbar();"
   ]
  },
  {
   "cell_type": "code",
   "execution_count": null,
   "metadata": {},
   "outputs": [],
   "source": [
    "plt.imshow(median_frame, cmap='jet')\n",
    "plt.colorbar();"
   ]
  },
  {
   "cell_type": "markdown",
   "metadata": {},
   "source": [
    "Now that we have the \"background\", we can find the difference from background, which should emphasize anything that is moving."
   ]
  },
  {
   "cell_type": "code",
   "execution_count": null,
   "metadata": {},
   "outputs": [],
   "source": [
    "frame0_absdiff = abs(frame0 - median_frame)\n",
    "plt.imshow(frame0_absdiff, cmap='jet')\n",
    "plt.colorbar();"
   ]
  },
  {
   "cell_type": "markdown",
   "metadata": {},
   "source": [
    "Now lets make a histogram of the `frame0_absdiff` image."
   ]
  },
  {
   "cell_type": "code",
   "execution_count": null,
   "metadata": {},
   "outputs": [],
   "source": [
    "plt.hist(frame0_absdiff.flat, bins=30);"
   ]
  },
  {
   "cell_type": "markdown",
   "metadata": {},
   "source": [
    "We want to find a threshold for this \"absolute difference image\" which will separate the fly from the background. From frame to frame the background changes very little - only noise in the light levels, camera sensor and caused by lossy compression to a movie format cause changes. But when the fly moves over the background, there is a large change in luminance values. This happens only in very few pixels. So few that they do not show on the histogram. However, matplotlib will automatically scale the axes, so we know there must be few pixels with values at 150 or above."
   ]
  },
  {
   "cell_type": "markdown",
   "metadata": {},
   "source": [
    "## Questions Part A\n",
    "\n",
    "Enter a threshold below and describe why you chose this value. Put your answer in the variable `threshold`."
   ]
  },
  {
   "cell_type": "code",
   "execution_count": null,
   "metadata": {
    "deletable": false,
    "nbgrader": {
     "cell_type": "code",
     "checksum": "71fcb58983ffdeb9114e35ad94690907",
     "grade": false,
     "grade_id": "cell-1ef3868b1b1b045c",
     "locked": false,
     "schema_version": 3,
     "solution": true
    }
   },
   "outputs": [],
   "source": [
    "# YOUR CODE HERE\n",
    "raise NotImplementedError()"
   ]
  },
  {
   "cell_type": "markdown",
   "metadata": {
    "deletable": false,
    "nbgrader": {
     "cell_type": "markdown",
     "checksum": "77322ebaaa5f2b4b29f0e3d0488add63",
     "grade": true,
     "grade_id": "cell-c848bbfece87e521",
     "locked": false,
     "points": 1,
     "schema_version": 3,
     "solution": true
    }
   },
   "source": [
    "YOUR ANSWER HERE"
   ]
  },
  {
   "cell_type": "code",
   "execution_count": null,
   "metadata": {
    "deletable": false,
    "editable": false,
    "nbgrader": {
     "cell_type": "code",
     "checksum": "fdcf39f570e2d445f8fddba75e926a82",
     "grade": true,
     "grade_id": "cell-edadac5626867908",
     "locked": true,
     "points": 1,
     "schema_version": 3,
     "solution": false
    }
   },
   "outputs": [],
   "source": [
    "# If this runs without error, it means the answer in your previous cell was a number.\n",
    "assert(threshold+0==threshold)"
   ]
  },
  {
   "cell_type": "markdown",
   "metadata": {},
   "source": [
    "Now we want to \"binarize\" or \"threshold\" the image so that it is all zeros and ones (or true and false). This will let use use analyses like connected components labeling later."
   ]
  },
  {
   "cell_type": "code",
   "execution_count": null,
   "metadata": {},
   "outputs": [],
   "source": [
    "binarized = ensure_dtype_uint8(frame0_absdiff>threshold)\n",
    "plt.imshow(binarized);\n",
    "plt.colorbar();"
   ]
  },
  {
   "cell_type": "markdown",
   "metadata": {},
   "source": [
    "Now we will use **connected components labeling** via the `ndimage.label()` function.\n",
    "\n",
    "We will do more with **connected components labeling** later. For now, you can [read about connected components labeling](https://en.wikipedia.org/wiki/Connected-component_labeling).\n",
    "\n",
    "We will use these labels to perform object detection. We will not bother to detect the fly on every single frame. Only on the frames where we have exactly one label do we say that we detected the fly. We skip the other frames, ignoring them."
   ]
  },
  {
   "cell_type": "code",
   "execution_count": null,
   "metadata": {},
   "outputs": [],
   "source": [
    "labels, num_labels = ndimage.label(binarized)\n",
    "plt.imshow(labels, cmap='jet')\n",
    "plt.colorbar();"
   ]
  },
  {
   "cell_type": "markdown",
   "metadata": {},
   "source": [
    "## Questions Part B\n",
    "\n",
    "Run the object detection algorithm for each frame and plot the result. Here, we are going to make lists `frames`, `xs`, `ys` to save the results of our object detection step.\n",
    "\n",
    "Try re-running the above cells (from \"Questions Part A\") to the cell below with varying values of the `threshold` value until you get a good tracking result. You should ideally have zero warnings printed, but one or two are OK. "
   ]
  },
  {
   "cell_type": "code",
   "execution_count": null,
   "metadata": {},
   "outputs": [],
   "source": [
    "frames = []\n",
    "xs = []\n",
    "ys = []\n",
    "for i in range(n_frames):\n",
    "    frame = all_frames[i,:,:]\n",
    "    frame_absdiff = abs(frame - median_frame)\n",
    "    binarized = ensure_dtype_uint8(frame_absdiff>threshold)\n",
    "    labels, num_labels = ndimage.label(binarized)\n",
    "    if num_labels!=1:\n",
    "        print('WARNING: num_labels %d on frame %d, skipping' % (num_labels,i))\n",
    "        continue\n",
    "    y,x = np.mean(np.nonzero(labels==1),axis=1)\n",
    "    frames.append(i)\n",
    "    xs.append(x)\n",
    "    ys.append(y)"
   ]
  },
  {
   "cell_type": "markdown",
   "metadata": {},
   "source": [
    "Make with an image of the first frame (saved in the variable `frame0` above) in the background and then the fly trajectory overlaid on top of the image.\n",
    "\n",
    "You can do this by first calling `plt.imshow()` and then `plt.plot()`. Your result should look like this:\n",
    "\n",
    "![fly-tracking1.png](fly-tracking1.png)"
   ]
  },
  {
   "cell_type": "code",
   "execution_count": null,
   "metadata": {
    "deletable": false,
    "nbgrader": {
     "cell_type": "code",
     "checksum": "d156a2cb11d8b53eca4ce0c2c6d98c5a",
     "grade": true,
     "grade_id": "cell-7250d526d95bf828",
     "locked": false,
     "points": 1,
     "schema_version": 3,
     "solution": true
    }
   },
   "outputs": [],
   "source": [
    "# YOUR CODE HERE\n",
    "raise NotImplementedError()"
   ]
  },
  {
   "cell_type": "markdown",
   "metadata": {},
   "source": [
    "Make a plot of the timeseries of the x and y values.\n",
    "\n",
    "We want a plot that looks like the following. You need to fix the following code to do this.\n",
    "\n",
    "![fly-tracking2.png](fly-tracking2.png)"
   ]
  },
  {
   "cell_type": "code",
   "execution_count": null,
   "metadata": {
    "deletable": false,
    "nbgrader": {
     "cell_type": "code",
     "checksum": "a1268da25c1f3b257c2e16acfde6b9d4",
     "grade": true,
     "grade_id": "cell-8680c2c7c9c5cb22",
     "locked": false,
     "points": 1,
     "schema_version": 3,
     "solution": true,
     "task": false
    }
   },
   "outputs": [],
   "source": [
    "# YOUR CODE HERE\n",
    "raise NotImplementedError()"
   ]
  },
  {
   "cell_type": "markdown",
   "metadata": {},
   "source": [
    "## Questions Part C\n",
    "\n",
    "Describe: How did we get the background image? How did we compute a binary image? What did we do with the binary image?"
   ]
  },
  {
   "cell_type": "markdown",
   "metadata": {
    "deletable": false,
    "nbgrader": {
     "cell_type": "markdown",
     "checksum": "8f8394bf41b5ede928f69dff168e85f4",
     "grade": true,
     "grade_id": "cell-0a341a483941e5cd",
     "locked": false,
     "points": 2,
     "schema_version": 3,
     "solution": true
    }
   },
   "source": [
    "YOUR ANSWER HERE"
   ]
  }
 ],
 "metadata": {
  "kernelspec": {
   "display_name": "Python 3 (ipykernel)",
   "language": "python",
   "name": "python3"
  },
  "language_info": {
   "codemirror_mode": {
    "name": "ipython",
    "version": 3
   },
   "file_extension": ".py",
   "mimetype": "text/x-python",
   "name": "python",
   "nbconvert_exporter": "python",
   "pygments_lexer": "ipython3",
   "version": "3.8.10"
  }
 },
 "nbformat": 4,
 "nbformat_minor": 2
}
