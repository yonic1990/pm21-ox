{
 "cells": [
  {
   "cell_type": "markdown",
   "id": "50e009f4",
   "metadata": {
    "deletable": false,
    "editable": false,
    "nbgrader": {
     "cell_type": "markdown",
     "checksum": "aa845f58f5f243fda726dccf6fcba6f5",
     "grade": false,
     "grade_id": "cell-a5d2b0e12e40b96b",
     "locked": true,
     "schema_version": 3,
     "solution": false,
     "task": false
    }
   },
   "source": [
    "Play the games at https://blockly.games/. \n",
    "\n",
    "Play the \"Bird\" game up to the highest level you can.\n",
    "\n",
    "When you have solved the level, Blockly will show you a window saying `Congratulations! You solved this level with N lines of JavaScript: XXXX Are you ready for level Z?`\n",
    "\n",
    "Please copy the javascript text of your solution from blockly and paste into the cell below. Also write what level you completed."
   ]
  },
  {
   "cell_type": "markdown",
   "id": "6f7cdd8b",
   "metadata": {
    "deletable": false,
    "nbgrader": {
     "cell_type": "markdown",
     "checksum": "4275ba75af24f2a2e5cb6011f3e8a9c3",
     "grade": true,
     "grade_id": "cell-3bf8c4e0fa89292e",
     "locked": false,
     "points": 1,
     "schema_version": 3,
     "solution": true,
     "task": false
    }
   },
   "source": [
    "YOUR ANSWER HERE"
   ]
  }
 ],
 "metadata": {
  "kernelspec": {
   "display_name": "Python 3 (ipykernel)",
   "language": "python",
   "name": "python3"
  },
  "language_info": {
   "codemirror_mode": {
    "name": "ipython",
    "version": 3
   },
   "file_extension": ".py",
   "mimetype": "text/x-python",
   "name": "python",
   "nbconvert_exporter": "python",
   "pygments_lexer": "ipython3",
   "version": "3.8.10"
  }
 },
 "nbformat": 4,
 "nbformat_minor": 5
}
