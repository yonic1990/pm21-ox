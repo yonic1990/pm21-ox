{
 "cells": [
  {
   "cell_type": "markdown",
   "id": "3359a816",
   "metadata": {
    "deletable": false,
    "editable": false,
    "nbgrader": {
     "cell_type": "markdown",
     "checksum": "96bf38c28712171aaf372b4a85e81a1f",
     "grade": false,
     "grade_id": "cell-ef876244aa1580e1",
     "locked": true,
     "schema_version": 3,
     "solution": false,
     "task": false
    }
   },
   "source": [
    "Login to your account at https://strawlab-rp2.zoologie.uni-freiburg.de/.\n",
    "\n",
    "Download this notebook from github:\n",
    "\n",
    "- Option 1) Navigate to view the file in the browser, click the \"Raw\" view near the upper right, then in your browser save the file with \"Save\" or \"Save As\" and download the `.ipynb` file.\n",
    "\n",
    "- Option 2) On the front page of the github repository, click on the green `↓ Code` button near the upper right and pick one of the methods. 'Zip' is easiest to start.\n",
    "\n",
    "Upload this notebook into Jupyter at https://strawlab-rp2.zoologie.uni-freiburg.de/.\n",
    "\n",
    "Type \"1+1\" (without the quotes in the cell below) and run the cell."
   ]
  },
  {
   "cell_type": "code",
   "execution_count": null,
   "id": "3631fe21",
   "metadata": {
    "deletable": false,
    "nbgrader": {
     "cell_type": "code",
     "checksum": "586ce77fbafb52783644b0c6dd0c944b",
     "grade": false,
     "grade_id": "cell-89f9c5bdfc7d0a6a",
     "locked": false,
     "schema_version": 3,
     "solution": true,
     "task": false
    }
   },
   "outputs": [],
   "source": [
    "# YOUR CODE HERE\n",
    "raise NotImplementedError()"
   ]
  },
  {
   "cell_type": "code",
   "execution_count": null,
   "id": "5c0c6123",
   "metadata": {
    "deletable": false,
    "editable": false,
    "nbgrader": {
     "cell_type": "code",
     "checksum": "6ef7927eae335112558e9a8a202382c4",
     "grade": true,
     "grade_id": "cell-9c2fbb8378f13a03",
     "locked": true,
     "points": 1,
     "schema_version": 3,
     "solution": false,
     "task": false
    }
   },
   "outputs": [],
   "source": [
    "assert(_==2)"
   ]
  }
 ],
 "metadata": {
  "kernelspec": {
   "display_name": "Python 3 (ipykernel)",
   "language": "python",
   "name": "python3"
  },
  "language_info": {
   "codemirror_mode": {
    "name": "ipython",
    "version": 3
   },
   "file_extension": ".py",
   "mimetype": "text/x-python",
   "name": "python",
   "nbconvert_exporter": "python",
   "pygments_lexer": "ipython3",
   "version": "3.8.10"
  }
 },
 "nbformat": 4,
 "nbformat_minor": 5
}
