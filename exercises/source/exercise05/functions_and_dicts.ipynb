{
 "cells": [
  {
   "cell_type": "code",
   "execution_count": null,
   "metadata": {
    "deletable": false,
    "editable": false,
    "nbgrader": {
     "cell_type": "code",
     "checksum": "87b9f10fcc59fcac15dd24388af3d7f1",
     "grade": false,
     "grade_id": "cell-494826e8c27cdbcb",
     "locked": true,
     "schema_version": 3,
     "solution": false,
     "task": false
    }
   },
   "outputs": [],
   "source": [
    "# You must run this cell, but you can ignore its contents.\n",
    "import hashlib\n",
    "\n",
    "def ads_hash(ty):\n",
    "    \"\"\"Return a unique string for input\"\"\"\n",
    "    ty_str = str(ty).encode()\n",
    "    m = hashlib.sha256()\n",
    "    m.update(ty_str)\n",
    "    return m.hexdigest()[:10]"
   ]
  },
  {
   "cell_type": "code",
   "execution_count": null,
   "metadata": {
    "deletable": false,
    "editable": false,
    "nbgrader": {
     "cell_type": "code",
     "checksum": "8e6046353db19907ba3c436bcb594e56",
     "grade": false,
     "grade_id": "cell-592b21fffec74d63",
     "locked": true,
     "schema_version": 3,
     "solution": false,
     "task": false
    }
   },
   "outputs": [],
   "source": [
    "# You must also run this cell.\n",
    "import matplotlib.pyplot as plt"
   ]
  },
  {
   "cell_type": "markdown",
   "metadata": {
    "deletable": false,
    "editable": false,
    "nbgrader": {
     "cell_type": "markdown",
     "checksum": "4c78dce964c90ca08d54f0ad0796b008",
     "grade": false,
     "grade_id": "cell-c6115c6a8fc2824f",
     "locked": true,
     "schema_version": 3,
     "solution": false,
     "task": false
    }
   },
   "source": [
    "## Practice with functions"
   ]
  },
  {
   "cell_type": "markdown",
   "metadata": {
    "deletable": false,
    "editable": false,
    "nbgrader": {
     "cell_type": "markdown",
     "checksum": "cd074a44178ff9247836c32087dec393",
     "grade": false,
     "grade_id": "cell-2ce1883510b6a1b4",
     "locked": true,
     "schema_version": 3,
     "solution": false,
     "task": false
    }
   },
   "source": [
    "### Q1 Make a function `compute_seq1(n)` which computes the a sequence of length `n` according to the following pattern:\n",
    "\n",
    "`1, 1, 1, 2, 3, 4, 6, 9, 13, 19, 28, ...`\n",
    "\n",
    "Hint: this is very similar to the Fibonacci sequence, but each element at index `n` is the sum of the elements at index `n-1` and `n-3`. The first three elements are `1`."
   ]
  },
  {
   "cell_type": "code",
   "execution_count": null,
   "metadata": {
    "deletable": false,
    "nbgrader": {
     "cell_type": "code",
     "checksum": "dde56fa4966d9a6b1efb76cb8c0975dc",
     "grade": false,
     "grade_id": "cell-5aeb59f4e391239b",
     "locked": false,
     "schema_version": 3,
     "solution": true,
     "task": false
    }
   },
   "outputs": [],
   "source": [
    "# YOUR CODE HERE\n",
    "raise NotImplementedError()"
   ]
  },
  {
   "cell_type": "code",
   "execution_count": null,
   "metadata": {
    "deletable": false,
    "editable": false,
    "nbgrader": {
     "cell_type": "code",
     "checksum": "3b2dc1f40885856f02b9114714d81964",
     "grade": true,
     "grade_id": "cell-0c52f8d0b74caa5e",
     "locked": true,
     "points": 1,
     "schema_version": 3,
     "solution": false,
     "task": false
    }
   },
   "outputs": [],
   "source": [
    "# If this runs without error, it means `compute_seq1()` behaves correctly.\n",
    "assert compute_seq1(15)==[1, 1, 1, 2, 3, 4, 6, 9, 13, 19, 28, 41, 60, 88, 129, 189]"
   ]
  },
  {
   "cell_type": "markdown",
   "metadata": {
    "deletable": false,
    "editable": false,
    "nbgrader": {
     "cell_type": "markdown",
     "checksum": "1117161ba3df53614af8fea97e79d328",
     "grade": false,
     "grade_id": "cell-6e6f3ca73e99b3e7",
     "locked": true,
     "schema_version": 3,
     "solution": false,
     "task": false
    }
   },
   "source": [
    "### Q2 Make a function `compute_seq2(n)` which computes the a sequence of length `n` according to the following pattern:\n",
    "\n",
    "`2, 2, 4, 6, 10, 16, 26 ...`\n",
    "\n",
    "Hint: this is a Fibonacci sequence with initial elements 2."
   ]
  },
  {
   "cell_type": "code",
   "execution_count": null,
   "metadata": {
    "deletable": false,
    "nbgrader": {
     "cell_type": "code",
     "checksum": "7ee41f76ea630806daa7597cca8c8737",
     "grade": false,
     "grade_id": "cell-8d48778fdbfb317e",
     "locked": false,
     "schema_version": 3,
     "solution": true,
     "task": false
    }
   },
   "outputs": [],
   "source": [
    "# YOUR CODE HERE\n",
    "raise NotImplementedError()"
   ]
  },
  {
   "cell_type": "code",
   "execution_count": null,
   "metadata": {
    "deletable": false,
    "editable": false,
    "nbgrader": {
     "cell_type": "code",
     "checksum": "adead5adff58f38a4b1a1ee23d7e20e5",
     "grade": true,
     "grade_id": "cell-e7e80f9bdb4eeb08",
     "locked": true,
     "points": 1,
     "schema_version": 3,
     "solution": false,
     "task": false
    }
   },
   "outputs": [],
   "source": [
    "# If this runs without error, it means `compute_seq2()` behaves correctly.\n",
    "assert compute_seq2(15)==[2, 2, 4, 6, 10, 16, 26, 42, 68, 110, 178, 288, 466, 754, 1220, 1974]"
   ]
  },
  {
   "cell_type": "markdown",
   "metadata": {
    "deletable": false,
    "editable": false,
    "nbgrader": {
     "cell_type": "markdown",
     "checksum": "5615c4616afc85e6471ea825a40b847f",
     "grade": false,
     "grade_id": "cell-03d11f5c31865fa6",
     "locked": true,
     "schema_version": 3,
     "solution": false,
     "task": false
    }
   },
   "source": [
    "## Practice converting types and using loops\n",
    "\n",
    "You are a biologist at Cape Verde to study one of the most important nesting sites for loggerhead sea turtles. You are studying the numbers and sexes of young turtles as they hatch. During the data collection part of your project, you have taken notes by typing \"m\" for male and \"f\" for female."
   ]
  },
  {
   "cell_type": "code",
   "execution_count": null,
   "metadata": {
    "deletable": false,
    "editable": false,
    "nbgrader": {
     "cell_type": "code",
     "checksum": "4158643e4762af2f04e569f05b53f8dd",
     "grade": false,
     "grade_id": "cell-06a01be28c18339a",
     "locked": true,
     "schema_version": 3,
     "solution": false,
     "task": false
    }
   },
   "outputs": [],
   "source": [
    "# Here are your data.\n",
    "\n",
    "nest1 = \"fffffmmmfmmfffmfmmmfffffffmmffmmfffmmmmffmmffmmmfmmmffmmmmffffmmmfffmffmfmfmfmmffmfmmffmfmmf\"\n",
    "nest2 = \"mmmfmffffmmmfmmfmfmmffmffmfmfmffmffmmmfmfffmfmfffmffmmfmfmfmmffmfmmf\"\n",
    "nest3 = \"ffffffmmmfmmfffmfmmmffmfmmmfffmmfffmffffmffmmmffffffmmmfmmfffmfmmmffmfmm\"\n",
    "nest4 = \"fmfmfmmffmffmfmffffffmfmfmffmffmfmfmmfffffmfmfmmffmffmfmmmfmmmmmmfmfmmm\""
   ]
  },
  {
   "cell_type": "markdown",
   "metadata": {
    "deletable": false,
    "editable": false,
    "nbgrader": {
     "cell_type": "markdown",
     "checksum": "9beced490dc8ff315f14bbcb0505cc36",
     "grade": false,
     "grade_id": "cell-c998e2a3545270ce",
     "locked": true,
     "schema_version": 3,
     "solution": false,
     "task": false
    }
   },
   "source": [
    "A string (`str` in Python) is a *sequence* which can be *iterated*, as in a for loop. You also know the `range` and `list` types, which can also be iterated. When you iterate over an `str`, each item is a signle character `str`:"
   ]
  },
  {
   "cell_type": "code",
   "execution_count": null,
   "metadata": {
    "deletable": false,
    "editable": false,
    "nbgrader": {
     "cell_type": "code",
     "checksum": "e5f2c408de0dd738df93d56c740ada5e",
     "grade": false,
     "grade_id": "cell-7f96e853d095f8fc",
     "locked": true,
     "schema_version": 3,
     "solution": false,
     "task": false
    }
   },
   "outputs": [],
   "source": [
    "count = 0\n",
    "for char in nest1:\n",
    "    assert type(char)==str\n",
    "    count = count + 1"
   ]
  },
  {
   "cell_type": "code",
   "execution_count": null,
   "metadata": {
    "deletable": false,
    "editable": false,
    "nbgrader": {
     "cell_type": "code",
     "checksum": "e895996db28f23bc3d2d467302525ff2",
     "grade": false,
     "grade_id": "cell-23e2ec7eac2011ae",
     "locked": true,
     "schema_version": 3,
     "solution": false,
     "task": false
    }
   },
   "outputs": [],
   "source": [
    "count"
   ]
  },
  {
   "cell_type": "markdown",
   "metadata": {
    "deletable": false,
    "editable": false,
    "nbgrader": {
     "cell_type": "markdown",
     "checksum": "4ec691c580403c0191aa765921b6dee8",
     "grade": false,
     "grade_id": "cell-e874a549c51ed6e9",
     "locked": true,
     "schema_version": 3,
     "solution": false,
     "task": false
    }
   },
   "source": [
    "## Q3 How many male turtles are in nest1? Count the number of `\"m\"` characters are in the `nest` string. Put the answer in a variable `num_males`."
   ]
  },
  {
   "cell_type": "code",
   "execution_count": null,
   "metadata": {
    "deletable": false,
    "nbgrader": {
     "cell_type": "code",
     "checksum": "9c894475feb531696d4903dfbd41c751",
     "grade": false,
     "grade_id": "cell-efbc7c6cbe040063",
     "locked": false,
     "schema_version": 3,
     "solution": true,
     "task": false
    }
   },
   "outputs": [],
   "source": [
    "# YOUR CODE HERE\n",
    "raise NotImplementedError()"
   ]
  },
  {
   "cell_type": "code",
   "execution_count": null,
   "metadata": {
    "deletable": false,
    "editable": false,
    "nbgrader": {
     "cell_type": "code",
     "checksum": "fa153698e420be65dfa4581cbd00aaa9",
     "grade": false,
     "grade_id": "cell-62ab53f78c7a1aa4",
     "locked": true,
     "schema_version": 3,
     "solution": false,
     "task": false
    }
   },
   "outputs": [],
   "source": [
    "num_males"
   ]
  },
  {
   "cell_type": "code",
   "execution_count": null,
   "metadata": {
    "deletable": false,
    "editable": false,
    "nbgrader": {
     "cell_type": "code",
     "checksum": "294e3ba9dfca5680631a3d19f7c92552",
     "grade": true,
     "grade_id": "cell-f6cf427c0e834b6d",
     "locked": true,
     "points": 1,
     "schema_version": 3,
     "solution": false,
     "task": false
    }
   },
   "outputs": [],
   "source": [
    "# If this runs without error, it means the answer in your previous cell was correct.\n",
    "assert ads_hash(num_males)=='71ee45a3c0'"
   ]
  },
  {
   "cell_type": "markdown",
   "metadata": {},
   "source": [
    "## Q4 What fraction of all turtles from nest1 are male? Put the answer in a variable `sex_ratio`."
   ]
  },
  {
   "cell_type": "code",
   "execution_count": null,
   "metadata": {
    "deletable": false,
    "nbgrader": {
     "cell_type": "code",
     "checksum": "9fedcb5b2ba422cd60ea95a8a8b9b70b",
     "grade": false,
     "grade_id": "cell-545e9eaa06507765",
     "locked": false,
     "schema_version": 3,
     "solution": true,
     "task": false
    }
   },
   "outputs": [],
   "source": [
    "# YOUR CODE HERE\n",
    "raise NotImplementedError()"
   ]
  },
  {
   "cell_type": "code",
   "execution_count": null,
   "metadata": {
    "deletable": false,
    "editable": false,
    "nbgrader": {
     "cell_type": "code",
     "checksum": "f21d263c097cfec14f71db6f9e7571ad",
     "grade": true,
     "grade_id": "cell-aec1f9ca60c05951",
     "locked": true,
     "points": 1,
     "schema_version": 3,
     "solution": false,
     "task": false
    }
   },
   "outputs": [],
   "source": [
    "# If this runs without error, it means the answer in your previous cell was correct.\n",
    "assert ads_hash(round(sex_ratio*1000))=='200dd69b70'"
   ]
  },
  {
   "cell_type": "markdown",
   "metadata": {
    "deletable": false,
    "editable": false,
    "nbgrader": {
     "cell_type": "markdown",
     "checksum": "99b2ca7da0922463890f7f0205f56912",
     "grade": false,
     "grade_id": "cell-9a788ebd56edca64",
     "locked": true,
     "schema_version": 3,
     "solution": false,
     "task": false
    }
   },
   "source": [
    "## Q5 Create an empty dict called `empty_observations` with keys 'nest1', 'nest2', 'nest3', 'nest4'. Each value should be an empty list."
   ]
  },
  {
   "cell_type": "code",
   "execution_count": null,
   "metadata": {
    "deletable": false,
    "nbgrader": {
     "cell_type": "code",
     "checksum": "02d57be6740ea4cd271b3772729db3a2",
     "grade": false,
     "grade_id": "cell-cc33b612e98cae30",
     "locked": false,
     "schema_version": 3,
     "solution": true,
     "task": false
    }
   },
   "outputs": [],
   "source": [
    "# YOUR CODE HERE\n",
    "raise NotImplementedError()"
   ]
  },
  {
   "cell_type": "code",
   "execution_count": null,
   "metadata": {
    "deletable": false,
    "editable": false,
    "nbgrader": {
     "cell_type": "code",
     "checksum": "0de46160fb0aeb2beb6776b7203b1f48",
     "grade": true,
     "grade_id": "cell-b24ea76aaa1c504a",
     "locked": true,
     "points": 1,
     "schema_version": 3,
     "solution": false,
     "task": false
    }
   },
   "outputs": [],
   "source": [
    "# If this runs without error, it means the answer in your previous cell was correct.\n",
    "assert ads_hash(tuple([item for item in empty_observations.items()]))=='5c604a4cc5'"
   ]
  },
  {
   "cell_type": "markdown",
   "metadata": {
    "deletable": false,
    "editable": false,
    "nbgrader": {
     "cell_type": "markdown",
     "checksum": "9b653053052adc43392da64faa915f72",
     "grade": false,
     "grade_id": "cell-73e0ee5363629b1a",
     "locked": true,
     "schema_version": 3,
     "solution": false,
     "task": false
    }
   },
   "source": [
    "## Q6 Create a dict called `observations` with keys 'nest1', 'nest2', 'nest3', 'nest4'. The values for each key should be as given above in the section just after \"Here are your data.\"\n",
    "\n",
    "The key 'nest1' should have value given above for the `nest1` variable (i.e. `\"fffffmmmfmmfffmfmmmfffffffmmffmmfffmmmmffmmffmmmfmmmffmmmmffffmmmfffmffmfmfmfmmffmfmmffmfmmf\"`)"
   ]
  },
  {
   "cell_type": "code",
   "execution_count": null,
   "metadata": {
    "deletable": false,
    "nbgrader": {
     "cell_type": "code",
     "checksum": "843b5c8fef2bca0b04aeaa1cf641cec0",
     "grade": false,
     "grade_id": "cell-40c757b8f13d8839",
     "locked": false,
     "schema_version": 3,
     "solution": true,
     "task": false
    }
   },
   "outputs": [],
   "source": [
    "# YOUR CODE HERE\n",
    "raise NotImplementedError()"
   ]
  },
  {
   "cell_type": "code",
   "execution_count": null,
   "metadata": {
    "deletable": false,
    "editable": false,
    "nbgrader": {
     "cell_type": "code",
     "checksum": "c9ca29cfa789f5dcdd9cc0743831f0d9",
     "grade": true,
     "grade_id": "cell-41699e4baeb4f512",
     "locked": true,
     "points": 1,
     "schema_version": 3,
     "solution": false,
     "task": false
    }
   },
   "outputs": [],
   "source": [
    "# If this runs without error, it means the answer in your previous cell was correct.\n",
    "assert ads_hash(tuple([item for item in observations.items()]))=='19ea06edbc'"
   ]
  },
  {
   "cell_type": "markdown",
   "metadata": {
    "deletable": false,
    "editable": false,
    "nbgrader": {
     "cell_type": "markdown",
     "checksum": "577dbd75510c95dc0bbcc153e747916f",
     "grade": false,
     "grade_id": "cell-d2bdc242834633ea",
     "locked": true,
     "schema_version": 3,
     "solution": false,
     "task": false
    }
   },
   "source": [
    "## Iterating through a `dict`\n",
    "\n",
    "Consider the following:"
   ]
  },
  {
   "cell_type": "code",
   "execution_count": null,
   "metadata": {
    "deletable": false,
    "editable": false,
    "nbgrader": {
     "cell_type": "code",
     "checksum": "3c32b023d77ace7518f16600761783c4",
     "grade": false,
     "grade_id": "cell-57062ecaa6dd4e24",
     "locked": true,
     "schema_version": 3,
     "solution": false,
     "task": false
    }
   },
   "outputs": [],
   "source": [
    "data = {'a': 1, 'b': 2, 'c': 3}"
   ]
  },
  {
   "cell_type": "code",
   "execution_count": null,
   "metadata": {
    "deletable": false,
    "editable": false,
    "nbgrader": {
     "cell_type": "code",
     "checksum": "d8c51f4d13f1211f92f7514f53c9797d",
     "grade": false,
     "grade_id": "cell-1a4e6fb36a964a4c",
     "locked": true,
     "schema_version": 3,
     "solution": false,
     "task": false
    }
   },
   "outputs": [],
   "source": [
    "for key in data:\n",
    "    value = data[key]\n",
    "    print(f\"key: {key}, value: {value}\")"
   ]
  },
  {
   "cell_type": "markdown",
   "metadata": {
    "deletable": false,
    "editable": false,
    "nbgrader": {
     "cell_type": "markdown",
     "checksum": "b2b279d18d23c78aeadbe664bcb0d0c5",
     "grade": false,
     "grade_id": "cell-7a45e8eeafa0152b",
     "locked": true,
     "schema_version": 3,
     "solution": false,
     "task": false
    }
   },
   "source": [
    "We see in the above that we can iterate through this dictionary. Let's create a new dictionary based on the first one:"
   ]
  },
  {
   "cell_type": "code",
   "execution_count": null,
   "metadata": {
    "deletable": false,
    "editable": false,
    "nbgrader": {
     "cell_type": "code",
     "checksum": "b464067a56c044807d8e6190151f0deb",
     "grade": false,
     "grade_id": "cell-154ab8a613fe8638",
     "locked": true,
     "schema_version": 3,
     "solution": false,
     "task": false
    }
   },
   "outputs": [],
   "source": [
    "squared_data = {}\n",
    "for key in data:\n",
    "    value = data[key]\n",
    "    squared_data[key] = value*value\n",
    "print(squared_data)"
   ]
  },
  {
   "cell_type": "markdown",
   "metadata": {
    "deletable": false,
    "editable": false,
    "nbgrader": {
     "cell_type": "markdown",
     "checksum": "e2ec0584f0a9b7a28f4618d131f225ca",
     "grade": false,
     "grade_id": "cell-55d5e2b1c6ca9071",
     "locked": true,
     "schema_version": 3,
     "solution": false,
     "task": false
    }
   },
   "source": [
    "## Q7. Putting things together: create a dict called `sex_ratios`.\n",
    "\n",
    "There should be key for every key from the `observations` dictionary and the value for each key should be the sex ratio for each value in the `observations` dictionary."
   ]
  },
  {
   "cell_type": "code",
   "execution_count": null,
   "metadata": {
    "deletable": false,
    "nbgrader": {
     "cell_type": "code",
     "checksum": "fe205cb58e690b73a3a013aa0294a4ca",
     "grade": false,
     "grade_id": "cell-d890f019a87700d7",
     "locked": false,
     "schema_version": 3,
     "solution": true,
     "task": false
    }
   },
   "outputs": [],
   "source": [
    "# YOUR CODE HERE\n",
    "raise NotImplementedError()"
   ]
  },
  {
   "cell_type": "code",
   "execution_count": null,
   "metadata": {
    "deletable": false,
    "editable": false,
    "nbgrader": {
     "cell_type": "code",
     "checksum": "449769306d1324a2fb0587d36636e22e",
     "grade": true,
     "grade_id": "cell-a583495a57a86cfe",
     "locked": true,
     "points": 1,
     "schema_version": 3,
     "solution": false,
     "task": false
    }
   },
   "outputs": [],
   "source": [
    "# If this runs without error, it means the answer in your previous cell was correct.\n",
    "assert ads_hash(tuple([(k,round(v*10000)) for (k,v) in sex_ratios.items()]))=='9d19a5431a'"
   ]
  },
  {
   "cell_type": "markdown",
   "metadata": {
    "deletable": false,
    "editable": false,
    "nbgrader": {
     "cell_type": "markdown",
     "checksum": "3f7af81e8762e0bfe5f9902ce46f70b0",
     "grade": false,
     "grade_id": "cell-839a79cbcdf3f3cf",
     "locked": true,
     "schema_version": 3,
     "solution": false,
     "task": false
    }
   },
   "source": [
    "## Q8. Plotting data\n",
    "\n",
    "Given the following data, make a plot that looks like the following:\n",
    "\n",
    "<img src=\"data:image/png;base64,iVBORw0KGgoAAAANSUhEUgAAAYgAAAEGCAYAAAB/+QKOAAAABHNCSVQICAgIfAhkiAAAAAlwSFlzAAALEgAACxIB0t1+/AAAADh0RVh0U29mdHdhcmUAbWF0cGxvdGxpYiB2ZXJzaW9uMy4xLjEsIGh0dHA6Ly9tYXRwbG90bGliLm9yZy8QZhcZAAAgAElEQVR4nO3deXhc9X3v8fdXqyV5kRd5kyVvGBNjBwyuCYGwhIJtkhSykALN0zRpH0puuElL4hZu2nvbJH1CcZq2uZC6NCHLbROamxiH3BgbQgikEIhtbPACciSDbUm2JVuW7dFibd/7x5wRY3kkj2wdzfZ5PY8ezZxzfjNfHR/Pd37L+f3M3RERERkoL9UBiIhIelKCEBGRhJQgREQkISUIERFJSAlCREQSKkh1ACNpypQpPmfOnFSHISKSMbZu3XrE3SsS7cuqBDFnzhy2bNmS6jBERDKGme0bbJ+amEREJCElCBERSUgJQkREElKCEBGRhJQgREQkoVAThJmtNLMaM6s1s/sS7J9gZj81s1fNbJeZfSLZsiIiuW79tgaueuAXzL3vZ1z1wC9Yv61hRF8/tARhZvnAw8AqYBFwh5ktGnDYp4Hd7n4JcB3wD2ZWlGRZEZGctX5bA/ev20FDawcONLR2cP+6HSOaJMKsQSwHat19r7t3AY8Btww4xoFxZmbAWKAF6EmyrIhIzlqzqYaO7t7TtnV097JmU82IvUeYCaISOBD3vD7YFu8h4B1AI7AD+Ky79yVZFgAzu8vMtpjZlubm5pGKXUQkrTW2dgxr+7kIM0FYgm0DVydaAWwHZgKXAg+Z2fgky0Y3uj/i7svcfVlFRcK7xUVEss7M8pJhbT8XYSaIeqAq7vksojWFeJ8A1nlULfAmcFGSZUVEcta9Ny4445t0SWE+q1csHLH3CDNBbAYWmNlcMysCbgeeGHDMfuAGADObBiwE9iZZVkQkZ3X29OHA5LIiDKgsL+ErH1rCrUsTtsafk9Am63P3HjO7B9gE5AOPuvsuM7s72L8W+BLwHTPbQbRZ6S/d/QhAorJhxSoikkk6u3v5+jO/5fLZE/nR3VcSHecz8kKdzdXdNwAbBmxbG/e4Ebgp2bIiIgLf+/VbHD5xin++fWloyQF0J7WISEY52dnNN35ZxzUXVvCueZNDfS8lCBGRDPLNX71Ja3s3q28auc7owShBiIhkiJa2Lr75q72sWjydJbMmhP5+ShAiIhniG8/W0tHdy+duunBU3k8JQkQkAxw83sH3XtrHhy6bxQVTx43KeypBiIhkgK8/U4u789kbFozaeypBiIikubeOtPHDLQe4c3k1VZNKR+19lSBERNLc157eQ1F+Hp9+7wWj+r5KECIiaWx34wmeeLWRT1w1h6njxozqeytBiIiksa89XcP4MQX86TXzR/29lSBERNLU1n0t/Pz1Jv702vlMKC0c9fdXghARSUPuzoMba5gytohPXDUnJTEoQYiIpKH/qj3Cy2+2cM/1F1BaFOq8qoNSghARSTPuzppNNVSWl3DHFdUpi0MJQkQkzWzadYjX6o/zZ7+7gOKC/JTFoQQhIpJGevucrz61h/kVZXxwBFeHOxdKECIiaWT9tgZqmyJ87qaFFOSn9iNaCUJEJE109fTxjz/fw+LK8ay8eHqqw1GCEBFJF49t3k/9sQ5Wr7iIvLzwlhJNlhKEiEgaaO/q4evP1LJ87iSuWTAl1eEAShAiImnhuy/u40jkFH+xYiFmqa89gBKEiEjKHe/oZu1zdbz3oqksmzMp1eH0U4IQEUmxf3t+L8c7ukdtKdFkhZogzGylmdWYWa2Z3Zdg/2oz2x787DSzXjObFOx7y8x2BPu2hBmniEiqNJ88xaMvvMn73zmDi2dOSHU4pwltgg8zywceBm4E6oHNZvaEu++OHePua4A1wfEfAP7c3VviXuZ6dz8SVowiIqn28LO1nOrp494b06v2AOHWIJYDte6+1927gMeAW4Y4/g7gByHGIyKSVuqPtfP9l/dz2+WzmFcxNtXhnCHMBFEJHIh7Xh9sO4OZlQIrgR/HbXbgKTPbamZ3DfYmZnaXmW0xsy3Nzc0jELaIyOj4+jO/BeAzNyxIcSSJhZkgEo3T8kGO/QDwwoDmpavc/TJgFfBpM7smUUF3f8Tdl7n7soqKivOLWERklNQ1R/jR1no+9q7ZzCwvSXU4CYWZIOqBqrjns4DGQY69nQHNS+7eGPxuAh4n2mQlIpIVvvbUHkoK8/n09aO/lGiywkwQm4EFZjbXzIqIJoEnBh5kZhOAa4GfxG0rM7NxscfATcDOEGMVERk1OxuO87MdB/njq+cyeWxxqsMZVGijmNy9x8zuATYB+cCj7r7LzO4O9q8NDv0g8JS7t8UVnwY8HtxNWAB83903hhWriMho+upTNUwoKeRPrpmX6lCGFOo6du6+AdgwYNvaAc+/A3xnwLa9wCVhxiYikgq/ebOFX9Y0c9+qixg/pjDV4QxJd1KLiIyS6FKibzB1XDEfv3JOqsM5KyUIEZFR8ss9zWx+6xj//YYFlBSlbinRZClBiIiMgr4+56ubaqiaVMLvL6s6e4E0oAQhIjIKNuw8yK7GE9x744UUFWTGR2+ondQiIrlu/bYGHtz0Bo2tnRTkGd6X6oiSpwQhIhKS9dsauH/dDjq6ewHo6XO+sH4neXnGrUsTzjyUVjKjniMikoHWbKrpTw4xHd29rNlUk6KIhkcJQkQkJI2tHcPanm6UIEREQjLYJHzpOjnfQEoQIiIhWb1iIYX5p09sXVKYz+oVC1MU0fAoQYiIhOTWpZX8zpyJmEXXP6gsL+ErH1qSER3UoFFMIiKh6u2Dy6on8uNPvTvVoQybahAiIiGqa25jfkVZqsM4J0oQIiIhOd7ezZHIKS6Ymn7rTSdDCUJEJCS1zREA5lcoQYiISJy6pmiCUA1CREROU9ccoaggj1kTS1MdyjlRghARCUltU4R5U8rIz7OzH5yGlCBEREJS1xzJ2P4HUIIQEQlFZ3cv+1vamZ+h/Q+gBCEiEop9R9vpczL2HghQghARCUVtho9gAiUIEZFQ1DVHMIN5U5QgEjKzlWZWY2a1ZnZfgv2rzWx78LPTzHrNbFIyZUVE0lltU4TK8hJKivJTHco5Cy1BmFk+8DCwClgE3GFmi+KPcfc17n6pu18K3A885+4tyZQVEUlnmT6CCcKtQSwHat19r7t3AY8Btwxx/B3AD86xrIhI2ujrc+qaIxnd/wDhJohK4EDc8/pg2xnMrBRYCfz4HMreZWZbzGxLc3PzeQctInK+Go930NndpxrEEBLdOuiDHPsB4AV3bxluWXd/xN2XufuyioqKcwhTRGRkZcMIJgg3QdQDVXHPZwGNgxx7O283Lw23rIhIWqlrbgMy+x4ICDdBbAYWmNlcMysimgSeGHiQmU0ArgV+MtyyIiLpqLYpwsTSQiaPLU51KOcltCVH3b3HzO4BNgH5wKPuvsvM7g72rw0O/SDwlLu3na1sWLGKiIykbBjBBCGvSe3uG4ANA7atHfD8O8B3kikrIpIJ6poi3LhoWqrDOG+6k1pEZAQda+viaFtXVtQglCBEREZQXXN2jGACJQgRkRGVLUNcQQlCRGRE1TVHKC7IY2Z5SapDOW9KECIiI6i2KcK8irEZu8xoPCUIEZERVNfclvE3yMUoQYiIjJDO7l4OHGvPiv4HUIIQERkxbx5pw52sGOIKShAiIiMmm0YwgRKEiMiIiS0zOndKjvRBmNkEM/vH2JoLZvYPwQR7IiISp7YpQtXEUsYUZu4yo/GSqUE8CpwAPhr8nAC+HWZQIiKZKJtGMEFyk/XNd/cPxz3/WzPbHlZAIiKZqLfP2dsc4eoLJqc6lBGTTA2iw8yujj0xs6uAjvBCEhHJPI2tHZzqyfxlRuMlU4P4FPDdoN/BgBbgj8IMSkQk02TbCCZIIkG4+3bgEjMbHzw/EXpUIiIZJjaLa07UIMzsY+7+72Z274DtALj710KOTUQkY9Q2RZhcVsTEsqJUhzJihqpBxLrixyXY5yHEIiKSsbJlmdF4gyYId//X4OHP3f2F+H1BR7WIiARqmyKsXDwj1WGMqGRGMf3vJLeJiOSklrYujrV3Z9U9EDB0H8SVwLuBigH9EOOB7LhNUERkBGTjCCYYug+iCBgbHBPfD3EC+EiYQYmIZJJsHMEEQ/dBPAc8Z2bfcfd9oxiTiEhGqW2KMKYwj8osWGY0XjI3yrWb2RrgYmBMbKO7v/dsBc1sJfDPRJukvunuDyQ45jrgn4BC4Ii7Xxtsfws4CfQCPe6+LIlYRURGXV1zhHlTxpKXBcuMxksmQfwH8J/A+4G7gY8DzWcrZGb5wMPAjUA9sNnMnnD33XHHlAPfAFa6+34zmzrgZa539yNJ/SUiIilS2xThsuqJqQ5jxCUzimmyu38L6Hb359z9k8C7kii3HKh1973u3gU8Btwy4Jg7gXXuvh/A3ZuGEbuISMp1dPXS0NqRdf0PkFyC6A5+HzSz95nZUmBWEuUqgQNxz+uDbfEuBCaa2S/NbKuZ/WHcPgeeCrbfNdibmNldsbUqmpvPWrERERlRe49EcM++EUyQXBPTl4OJ+j5H9P6H8cCfJ1EuUWPcwDuwC4DLgRuAEuDXZvaSu+8BrnL3xqDZ6Wkze8Pdnz/jBd0fAR4BWLZsme7wFpFRVdfcBsD8qdl1DwScJUEE/QgL3P3/AceB64fx2vVAVdzzWUBjgmOOuHsb0GZmzwOXAHvcvRGizU5m9jjRJqszEoSISCrVNkXIM5gzOfsSxJBNTO7eC/zeOb72ZmCBmc01syLgduCJAcf8BHiPmRWYWSlwBfC6mZWZ2TgAMysDbgJ2nmMcIiKhqWuOUDUpe5YZjZdME9OLZvYQ0ZFMbbGN7v7KUIXcvcfM7gE2ER3m+qi77zKzu4P9a939dTPbCLwG9BEdCrvTzOYBjwczxxYA33f3jefw94mIhKquKcIFWdhBDckliHcHv78Yt82Bs94H4e4bgA0Dtq0d8HwNsGbAtr1Em5pERNJWb5+z90gb11xYkepQQpHMgkHD6XcQEckZ9cfa6erpy9oaRDLDXEVEJIH+OZiycAQTKEGIiJyz2Cyu2XiTHChBiIics7qmNqaMLaK8NHuWGY131gRhZl8ys4K45+PN7NvhhiUikv5qs3CZ0XjJ1CAKgJfN7J1mdhPR+xu2hhuWiEh6c3dqmyLMz8IpNmKSGcV0v5k9A7wMHAOucffa0CMTEUljR9u6ON7RnbUjmCC5JqZriK7p8EXgl8BDZjYz5LhERNJafwd1LtcggK8Ct8XWcTCzDwG/AC4KMzARkXQWG+KajbO4xiSTIK4M5mQCwN3XmdlzIcYkIpL2apsilBTmM2P8mLMfnKGS6aSeYmbfCuZMwswWAbeGG5aISHqra25j/tSyrFtmNF4yCeI7RCfcmxE83wP8WVgBiYhkgrqm7B7iCknWINz9h0RnW8Xde4DeoYuIiGSv9q4eGlo7snoEEySXINrMbDLBanBm9i6iiweJiOSkvf2ryGV3gkimk/peogv9zDezF4AK4COhRiUiksZyYQQTJHej3Ctmdi2wkOg60zXu3h16ZCIiaSq2zOjsyaWpDiVUydwodxtQ4u67iI5e+k8zuyz0yERE0lRdc4TZk8soLsi+ZUbjJdMH8dfuftLMrgZWAN8F/iXcsERE0ldtU4T5Fdm5BkS8ZBJEbMTS+4B/cfefANk5t62IyFn09Pbx1pH2rO+ghuQSRIOZ/SvwUWCDmRUnWU5EJOscONZBV29f1t8DAcl90H+U6I1yK929FZgErA41KhGRNFXXlBsjmCC5UUztwLq45weBg2EGJSKSrmqbs3uZ0XhqKhIRGYa6pggV44qZUFKY6lBCF2qCMLOVZlZjZrVmdt8gx1xnZtvNbFf8LLHJlBURGW21zZGsn2IjJrQEYWb5wMPAKmARcEcwE2z8MeXAN4Dfc/eLgduSLSsiMtrcPTpJ39TsH+IK4dYglgO17r7X3buAx4BbBhxzJ7DO3fcDuHvTMMqKiIyq5sgpTnT2qAYxAiqBA3HP64Nt8S4EJprZL81sq5n94TDKAmBmd5nZFjPb0tzcPEKhi4icqa4pNybpi0lmsr5zlWgVDU/w/pcDNwAlwK/N7KUky0Y3uj8CPAKwbNmyhMeIiIyE2hyZpC8mzARRD1TFPZ8FNCY45oi7txGdVvx54JIky4qIjKq6pghlRflMz+JlRuOF2cS0GVhgZnPNrAi4nei04fF+ArzHzArMrBS4Ang9ybIiIqOqrjnC/KljMcveZUbjhVaDcPceM7uH6F3Y+cCj7r7LzO4O9q9199eDta5fI7pi3TfdfSdAorJhxSoikoy6pghXzJuc6jBGTZhNTLj7BmDDgG1rBzxfA6xJpqyISKq0neqh8XhnzvQ/gO6kFhFJSv8yozkwzXeMEoSISBJqm08CuTOCCZQgRESSUtfURn6eUT1JNQgREYlT2xRh9uRSigpy52Mzd/5SEZHzUNccyYkpvuMpQYiInEVPbx9vHW3Lqf4HUIIQETmr/S3tdPe6ahAiInK62hxaZjSeEoSIyFnUBfdAzMuheyBACUJE5KxqmyJMG1/M+DHZv8xoPCUIEZGzyMURTKAEISIypNgyo7nW/wBKECIiQ2o6eYqTp3pUgxARkdPV5egIJlCCEBEZUmyZUdUgRETkNHVNEcYWFzBtfHGqQxl1ShAiIkOobY4wv6IsZ5YZjacEISIyhLqmNubnYP8DKEGIiAzqZGc3h0505mT/AyhBiIgMKrbMaC6OYAIlCBGRQcUm6VMNQkRETlPXHKEgz5g9uTTVoaREqAnCzFaaWY2Z1ZrZfQn2X2dmx81se/DzP+P2vWVmO4LtW8KMU0Qkkdgyo4X5uflduiCsFzazfOBh4EagHthsZk+4++4Bh/7K3d8/yMtc7+5HwopRRGQodc25OQdTTJhpcTlQ6+573b0LeAy4JcT3ExEZMd29few72p6z/Q8QboKoBA7EPa8Ptg10pZm9amZPmtnFcdsdeMrMtprZXSHGKSJyhn1H2+np85yuQYTWxAQkuu3QBzx/BZjt7hEzuxlYDywI9l3l7o1mNhV42szecPfnz3iTaPK4C6C6unrkoheRnJbrI5gg3BpEPVAV93wW0Bh/gLufcPdI8HgDUGhmU4LnjcHvJuBxok1WZ3D3R9x9mbsvq6ioGPm/QkRyUl1skr4crkGEmSA2AwvMbK6ZFQG3A0/EH2Bm0y2Y4MTMlgfxHDWzMjMbF2wvA24CdoYYq4jIaeqaIkwfP4axxWE2tKS30P5yd+8xs3uATUA+8Ki77zKzu4P9a4GPAJ8ysx6gA7jd3d3MpgGPB7mjAPi+u28MK1YRkYFyfQQThNsHEWs22jBg29q4xw8BDyUotxe4JMzYREQG4+7UNbfx4csSjavJHbl594eIyBAOnzhF5FRPztcglCBERAbQCKYoJQgRkQFiI5hUgxARkdPUNkUYV1xAxbjcW2Y0nhKEiMgAdc0R5k8dm5PLjMZTghARGaC2KZLz/Q+gBCEicpoTnd00nTyV8/0PoAQhInKauv4RTGUpjiT1lCBEROLU5fg61PGUIERE4tQ2RSjMN6on5eYyo/GUIERE4tQ1R5gzuYyCHF1mNJ7OgIhInLomTdIXowQhIhLo6uljX0tuLzMaTwlCRCSw72gbvTm+zGg8JQgRkUD/KnKqQQBKECIi/WKzuM7TPRCAEoSISL+65jZmThhDWQ4vMxov58/C+m0NrNlUQ2NrBzPLS1i9YiG3Ls3tVaRkcLpeslttU3SSPonK6RrE+m0N3L9uBw2tHTjQ0NrB/et2sH5bQ6pDkzSk6yW79fV5dBZX9T/0y+kEsWZTDR3dvadt6+juZc2mmhRFJOls8OvljRRFJCPp0IlO2rt6NYIpTk43MTW2diTc3tDawV+v38nS6nKWVk9kzuTSnJ8XPpcdiZziqV2HaRj0eunkru9t4dLqcpZWTeSdsyaoDTsDaZnRM+X0VTyzvCThf/rigjzWvVLP/3lpHwDlpYVcWhX9z7+0upxLqsqZUFI42uHKKDp8opNNuw6xYcdBfvNmC30O+XlGb5+fcWxJYT6/bYrw1O7DAOQZLJw+nqXV5VxaVc5l1eXMmzKWvDx9yUhnWmb0TDmdIFavWMj963ac1mxQUpjPVz60hA9cMpPapgjb9h9j2/5Wth04xnN7mvHg82F+RRlLq6MJY2nVRC6cNvaMuVvUoZlYup6XhtYONu48xJM7DrJ1/zHco//On77+AlYtnkHNoRP8j8d3Jrxebl1aSUtbF68eaI1eMwda+emrjXz/5f0AjBtTEHzJiNZKL60qZ2JZ0RkxpOu5SbXROC+1TRHGjylgytgz/11ylbmf+Y1oxF7cbCXwz0A+8E13f2DA/uuAnwBvBpvWufsXkymbyLJly3zLli3DinE4F97Jzm5eqz8elzRaaWnrAqC0KJ8llRP6k8bh4x185cmaQT9MclWsozddzsv+o+08ufMgG3Ye4tUDrQBcNH0cqxbP4OYl01kwbdxpxw/neunrc/YeifDK/la2H2hl2/5Wag6dIFYJmTuljKVV5f1NU3sOn+Cv1u9Km3OTLkbrmrn9kV/T1dPHuv921Yi9ZiYws63uvizhvrAShJnlA3uAG4F6YDNwh7vvjjvmOuDz7v7+4ZZN5FwSxPlwdw60dLDtQJAw9h9j98ETdPcOfk4ry0t44b73jlqM6aK1vYttB1r5zA+2cbKz54z9xQV5fHRZFbMnl1I9qZTZk8uomlRCadHIV3LrmiNs3BltPtrVeAKAJZUTWLl4OqsWT2deiG3Qbad6eK3+eJAwojWN5pOnhiyTi9dMb5+z5/BJtu1v5cs/2017V+8Zx5QU5vMn75nbf73MnlzK1HHF59xfuOzLP+f6hRWsue2S8w0/owyVIMJsYloO1Lr73iCIx4BbgCE/5Eeg7KgxM6onl1I9uZRbLo1+k+ns7mVX4wk+/C8vJizT0NrBgZZ2qrJ4rvnu3j5qDp3s/wDcvr+VvUfahixzqqeP9dsbzkgeFeOKmT0peo5nT4p+CFQHSWRyWVHCD4OB3/I/f9OFXFw5gQ07DvLkjkPUHD4JwNLqcr5w8ztYuXj6qP17lBUXcOX8yVw5fzIQ/ZLR0NrB9gOt3PP9bQnLNLR20NXTR1FB9g46bDrZyfagVr5t/zFeqz+eMCnE6+ju5eFna4nvFhpTmEf1pFKqJ5UFiSN27ZQya2JpwnO4flsDf7/xDY5ETrFp1yGuumBKTtfY4oWZICqBA3HP64ErEhx3pZm9CjQSrU3sGkbZtDOmMJ/LZ0+kcpAOcID3PPgsSyonsGrJdFYtnsHcKZl9W/+h452nJYPXGlrp7O4DYMrYYpZWl/ORZbNYWjWRe3+4nYPHO894jdi35Nb2LvYdbWdfSzv7j7b1P36x9ijrTpx+v8HY4gKqJkX/88c+COpbOnj0hTc51RN9/4bWDu794as4YAa/M3sS/+sDi1hx8XRmlpeEfm7OxsyYNTH64fWVDW8Mes0s+/LT3LgoWsO5esEUxhTmj3KkI+dUT/RLVKzWvW1/a//fXZBnXDxzPLddPqu/ufbOf3uJhtbE18yzn7+OhtYO9g+4XvYfbeeF2iOnNUvlGcyYUNJfS62eXMrh4508tvlA//VyorOH+9ftAFCSINwEkaieN7Dt5RVgtrtHzOxmYD2wIMmy0Tcxuwu4C6C6uvrcox1hg3WAf/6mC+npc57ceYgHN9bw4MYaLpo+jpuXzGDV4jPbvFNlsLb2jq5edja+3Q+z/UBr/wd+UX4eF1eO587ls4MhwuVUlpec9i3/L1delPC8rF6xEIDy0iLKS4u4pKr8jJg6u3upP9Ye/RA42s7+lnb2HW1jT9NJfvFGE129fQn/FgcmlBTy9L3XMHXcmBE8SyMr0TUzpjCPj10xm5b2Lp7efYgfv1LP2OICbnjHVFYtns61F06lpCg9kkWia+aWS2ee3gx7oJXdjcf7m2Ery0u4tKqcT1w1h6XV5Vw8c8IZyW/1isGvmaKCPOZOKQu+ZFWcVs7daT55qj9h9H/paGnn6d2HORr0Hw4UuxdKCSLcPogrgb9x9xXB8/sB3P0rQ5R5C1hGNEkMqyyMfh/E2ZytQzM2ambjzoNs2RcdNXPB1LHcvHg6KxfP4B0zxqXk/otEnYL5ecaM8cUcOnGKnqBOXzWppH/o76VV5SyaOZ7igrN/WIUxIqW3zzl8opN3P/CLhPsNePOB953Xe4yGoc5NV08fL9Yd4ckdh3hq9yGOtXdTUpjPey+aysrF03nvRVNTdv9Fomsmz6If5G1BU1FJYT5LZk3oH/m3tLqcaeOTS9hhXDMnO7t55988lfCbZ6ZcLyMhVZ3UBUQ7mm8AGoh2NN8ZNCHFjpkOHHZ3N7PlwI+A2URHLg1ZNpF0SxDDERt3/+SOQ7z85lH6HOZMLmVVULNYUjkhlGTR1dNHQ2sH+462Bd/I2/mPl/bR2XPmt/Higjz+5D1zWVo1kUury5kytnjE4zlfVz3wi4TNNNnW0dvT28fLb7awYcdBNu06zJHIKYoL8rj2wgpWLZnODe+YxvgxI3+vjrtzrL37tOtl39F2fvpqY8IaXElhPl943ztYWl3Owmnj0m4Zz1y5XoaSkgQRvPHNwD8R/cB/1N3/zszuBnD3tWZ2D/ApoAfoAO519xcHK3u298vkBBEvdufukzsP8mLdUXr7nMryEm5eEq1ZLK0qJy/Pkv5WdbKzO65Jpp39LW//525s7Titk6+4IK+/PXagTPhWlW7DaEdDb5+z5a0Wntx5iI07D3HoRCdF+XlcvWAKKxdP56ZF0ygvLUr6eunp7ePg8c63E0BLW7SJ5mg7B1raOXnq9IEE08YXc/hE4pFY6X7N5OL1MlDKEsRoy5YEEe9YWxdPv36YjTsP8avfNtPd60wfP4YF08by8pstdMV9mBcV5PHhyyqZMra4PyHsb2nvv1cjZlJZ0emdu3HDBCvGFvOeB5/N6G9VuXyzWV+fs+1AK0/uOMiTOw/R0NpBQZ4xv6KMvUfaThuCXVyQx8euqGZGeclpAwPqj3X0NyMCFOYbVdQmHjkAAAeASURBVBPfHg1UFXe9VE0spaQoP6O/iefy9QJKEFnjRGc3z7x+OGiDPjzocXkWnUakf5hfbHhoMHLjbE0P+laVHdydHQ3H2bDjEP/2q70JpwmJGTemgNnBUOLYMOLY8OIZE0rIP8s0IbpmMpcSRBaae9/PBu1cq/nyqvMeM5/r36qyzVDXyyt/fSPlpYXn3celayYzpepGOQnRYBMNziwvGZEbqm5dWqn/3FlkqOsl0ZxQ50LXTPZJryEFkrTVKxZSMmC8ePz9BCLxdL3IuVANIkPFvqmpSi/J0PUi50J9ECIiOWyoPgg1MYmISEJKECIikpAShIiIJKQEISIiCSlBiIhIQlk1isnMmoF951h8CnBkBMMZTZkae6bGDYo9VRT7yJvt7hWJdmRVgjgfZrZlsKFe6S5TY8/UuEGxp4piH11qYhIRkYSUIEREJCEliLc9kuoAzkOmxp6pcYNiTxXFPorUByEiIgmpBiEiIgkpQYiISEJZmyDM7FEzazKznXHbLjGzX5vZDjP7qZmND7bPMbMOM9se/KyNK3N5cHytmX3dznfZrRGOPdj3zmDfrmD/mEyI3cz+IO6cbzezPjO7NENiLzSz7wbbXzez++PKjGrsw4y7yMy+HWx/1cyuS1XcwXtWmdmzwTncZWafDbZPMrOnzey3we+JcWXuD2KsMbMVqYp/uLGb2eTg+IiZPTTgtUb93CfF3bPyB7gGuAzYGbdtM3Bt8PiTwJeCx3PijxvwOr8BriS6OuOTwKo0i70AeA24JHg+GcjPhNgHlFsC7M2g834n8FjwuBR4C5iTitiHGfengW8Hj6cCW4G8FJ7zGcBlweNxwB5gEfAgcF+w/T7g74PHi4BXgWJgLlCXquv9HGIvA64G7gYeGvBao37uk/nJ2hqEuz8PtAzYvBB4Pnj8NPDhoV7DzGYA49391x79V/wecOtIxzrQMGO/CXjN3V8Nyh51994MiT3eHcAPIGPOuwNlZlYAlABdwIlUxD7MuBcBzwTlmoBWYFkKz/lBd38leHwSeB2oBG4Bvhsc9t24WG4hmphPufubQC2wPEXnfVixu3ubu/8X0Bn/Oqk698nI2gQxiJ3A7wWPbwOq4vbNNbNtZvacmb0n2FYJ1McdUx9sS4XBYr8QcDPbZGavmNlfBNszIfZ4v0+QIMiM2H8EtAEHgf3AV929hfSJfbC4XwVuMbMCM5sLXB7sS3ncZjYHWAq8DExz94MQ/SAmWtshiOlAXLFYnCmNP8nYB5Pycz+YXEsQnwQ+bWZbiVYJu4LtB4Fqd18K3At8P2izTdQOmKpxwYPFXkC02voHwe8PmtkNZEbsAJjZFUC7u8fa0DMh9uVALzCTaFPH58xsHukT+2BxP0r0A2gL8E/Ai0APKY7bzMYCPwb+zN1PDHVogm0+xPbQDSP2QV8iwba0uP8gp9akdvc3iDbJYGYXAu8Ltp8CTgWPt5pZHdFv5vXArLiXmAU0jmbMMYPFTjTG59z9SLBvA9H26H8n/WOPuZ23aw+QGef9TmCju3cDTWb2ArAM+BVpEPsQ13oP8Oex48zsReC3wDFSFLeZFRL9gP0Pd18XbD5sZjPc/WDQBNMUbK/n9BpoLM6UXDPDjH0waXO9D5RTNQgzmxr8zgP+ClgbPK8ws/zg8TxgAdEO04PASTN7VzCq4A+Bn6RT7MAm4J1mVhq0h18L7M6Q2GPbbgMei23LkNj3A++1qDLgXcAb6RL7ENd6aRAvZnYj0OPuKbtegvf6FvC6u38tbtcTwMeDxx+Pi+UJ4HYzKw6ayBYAv0lF/OcQe0Lpcs0klOpe8rB+iH4jPQh0E83Qfwx8luhIgz3AA7x9J/mHgV1E22dfAT4Q9zrLiLbn1gEPxcqkS+zB8R8L4t8JPJhhsV8HvJTgddI6dmAs8H+D874bWJ2q2IcZ9xyghmiH6s+JTvWcynN+NdHmlNeA7cHPzURH4z1DtHbzDDAprswXghhriBvtk4Lzfi6xv0V0QEEk+LdalKpzn8yPptoQEZGEcqqJSUREkqcEISIiCSlBiIhIQkoQIiKSkBKEiIgkpAQhIiIJKUGIpJHYDZsi6UAJQuQcmdmXYmsABM//zsw+Y2arzWyzmb1mZn8bt3+9mW0N1g64K257xMy+aGYvE53yWSQtKEGInLtvEUypEExpcTtwmOj0D8uBS4HLzeya4PhPuvvlRO+a/YyZTQ62lxFdy+EKj04HLZIWcmqyPpGR5O5vmdlRM1sKTAO2Ab9DdJK8bcFhY4kmjOeJJoUPBturgu1Hic4K++PRjF0kGUoQIufnm8AfAdOJTqV9A/AVd//X+IMsurTn7wJXunu7mf0SGBPs7nT33tEKWCRZamISOT+PAyuJ1hw2BT+fDNYIwMwqg5lVJwDHguRwEdHZX0XSmmoQIufB3bvM7FmgNagFPGVm7wB+HZ25mQjR2XY3Aneb2WtEZyF9KVUxiyRLs7mKnIegc/oV4DZ3/22q4xEZSWpiEjlHZrYIqAWeUXKQbKQahIiIJKQahIiIJKQEISIiCSlBiIhIQkoQIiKSkBKEiIgk9P8BQJyuaRJ32aUAAAAASUVORK5CYII=\" alt=\"\" />\n",
    "\n",
    "```\n",
    "year= [1950, 1955, 1960, 1965, 1970, 1975, 1980, 1985, 1990, 1995, 2000, 2005, 2010, 2015]\n",
    "sex_ratio = [0.51, 0.502, 0.49, 0.495, 0.503, 0.498, 0.51, 0.502, 0.49, 0.495, 0.503, 0.498, 0.73, 0.80]\n",
    "```"
   ]
  },
  {
   "cell_type": "code",
   "execution_count": null,
   "metadata": {
    "deletable": false,
    "nbgrader": {
     "cell_type": "code",
     "checksum": "1085e4e4a330ebb3bcd0ac1280d98c6d",
     "grade": true,
     "grade_id": "cell-369c41d4c436ea90",
     "locked": false,
     "points": 1,
     "schema_version": 3,
     "solution": true,
     "task": false
    }
   },
   "outputs": [],
   "source": [
    "# YOUR CODE HERE\n",
    "raise NotImplementedError()"
   ]
  },
  {
   "cell_type": "markdown",
   "metadata": {
    "deletable": false,
    "editable": false,
    "nbgrader": {
     "cell_type": "markdown",
     "checksum": "d157bdab1871da6182293ff1c34533aa",
     "grade": false,
     "grade_id": "cell-e3d96d589e391631",
     "locked": true,
     "schema_version": 3,
     "solution": false,
     "task": false
    }
   },
   "source": [
    "# Read more about this topic\n",
    "\n",
    "While the above \"data\" in this notebook are completely fake, it was inspired by the paper [here](https://www.int-res.com/abstracts/meps/v621/p209-219), which was covered in the press [here](https://www.washingtonpost.com/world/africa/the-warming-climate-is-turning-baby-sea-turtles-one-gender/2019/10/21/d571f3fe-e3a6-11e9-b0a6-3d03721b85ef_story.html)."
   ]
  },
  {
   "cell_type": "markdown",
   "metadata": {
    "deletable": false,
    "editable": false,
    "nbgrader": {
     "cell_type": "markdown",
     "checksum": "2546bb098a5bc0d7701d07bf8632b055",
     "grade": false,
     "grade_id": "cell-2bdb12b4d7152938",
     "locked": true,
     "schema_version": 3,
     "solution": false,
     "task": false
    }
   },
   "source": [
    "# --------"
   ]
  },
  {
   "cell_type": "markdown",
   "metadata": {
    "deletable": false,
    "editable": false,
    "nbgrader": {
     "cell_type": "markdown",
     "checksum": "439b7f8c8d39b57e502ea97b6de43b4e",
     "grade": false,
     "grade_id": "cell-0df247b5362fea0e",
     "locked": true,
     "schema_version": 3,
     "solution": false,
     "task": false
    }
   },
   "source": [
    "## Working with the Iris data set using for loops"
   ]
  },
  {
   "cell_type": "code",
   "execution_count": null,
   "metadata": {
    "deletable": false,
    "editable": false,
    "nbgrader": {
     "cell_type": "code",
     "checksum": "43d72a5469fba9edcb368c2afa0469ab",
     "grade": false,
     "grade_id": "cell-d1a16bc9fe6dc492",
     "locked": true,
     "schema_version": 3,
     "solution": false,
     "task": false
    }
   },
   "outputs": [],
   "source": [
    "iris_dataset = {'sepal length (cm)': [5.1, 4.9, 4.7, 4.6, 5.0, 5.4, 4.6, 5.0, 4.4, 4.9, 5.4, 4.8, 4.8, 4.3, 5.8, 5.7, 5.4, 5.1, 5.7, 5.1, 5.4, 5.1, 4.6, 5.1, 4.8, 5.0, 5.0, 5.2, 5.2, 4.7, 4.8, 5.4, 5.2, 5.5, 4.9, 5.0, 5.5, 4.9, 4.4, 5.1, 5.0, 4.5, 4.4, 5.0, 5.1, 4.8, 5.1, 4.6, 5.3, 5.0, 7.0, 6.4, 6.9, 5.5, 6.5, 5.7, 6.3, 4.9, 6.6, 5.2, 5.0, 5.9, 6.0, 6.1, 5.6, 6.7, 5.6, 5.8, 6.2, 5.6, 5.9, 6.1, 6.3, 6.1, 6.4, 6.6, 6.8, 6.7, 6.0, 5.7, 5.5, 5.5, 5.8, 6.0, 5.4, 6.0, 6.7, 6.3, 5.6, 5.5, 5.5, 6.1, 5.8, 5.0, 5.6, 5.7, 5.7, 6.2, 5.1, 5.7, 6.3, 5.8, 7.1, 6.3, 6.5, 7.6, 4.9, 7.3, 6.7, 7.2, 6.5, 6.4, 6.8, 5.7, 5.8, 6.4, 6.5, 7.7, 7.7, 6.0, 6.9, 5.6, 7.7, 6.3, 6.7, 7.2, 6.2, 6.1, 6.4, 7.2, 7.4, 7.9, 6.4, 6.3, 6.1, 7.7, 6.3, 6.4, 6.0, 6.9, 6.7, 6.9, 5.8, 6.8, 6.7, 6.7, 6.3, 6.5, 6.2, 5.9], 'sepal width (cm)': [3.5, 3.0, 3.2, 3.1, 3.6, 3.9, 3.4, 3.4, 2.9, 3.1, 3.7, 3.4, 3.0, 3.0, 4.0, 4.4, 3.9, 3.5, 3.8, 3.8, 3.4, 3.7, 3.6, 3.3, 3.4, 3.0, 3.4, 3.5, 3.4, 3.2, 3.1, 3.4, 4.1, 4.2, 3.1, 3.2, 3.5, 3.6, 3.0, 3.4, 3.5, 2.3, 3.2, 3.5, 3.8, 3.0, 3.8, 3.2, 3.7, 3.3, 3.2, 3.2, 3.1, 2.3, 2.8, 2.8, 3.3, 2.4, 2.9, 2.7, 2.0, 3.0, 2.2, 2.9, 2.9, 3.1, 3.0, 2.7, 2.2, 2.5, 3.2, 2.8, 2.5, 2.8, 2.9, 3.0, 2.8, 3.0, 2.9, 2.6, 2.4, 2.4, 2.7, 2.7, 3.0, 3.4, 3.1, 2.3, 3.0, 2.5, 2.6, 3.0, 2.6, 2.3, 2.7, 3.0, 2.9, 2.9, 2.5, 2.8, 3.3, 2.7, 3.0, 2.9, 3.0, 3.0, 2.5, 2.9, 2.5, 3.6, 3.2, 2.7, 3.0, 2.5, 2.8, 3.2, 3.0, 3.8, 2.6, 2.2, 3.2, 2.8, 2.8, 2.7, 3.3, 3.2, 2.8, 3.0, 2.8, 3.0, 2.8, 3.8, 2.8, 2.8, 2.6, 3.0, 3.4, 3.1, 3.0, 3.1, 3.1, 3.1, 2.7, 3.2, 3.3, 3.0, 2.5, 3.0, 3.4, 3.0], 'petal length (cm)': [1.4, 1.4, 1.3, 1.5, 1.4, 1.7, 1.4, 1.5, 1.4, 1.5, 1.5, 1.6, 1.4, 1.1, 1.2, 1.5, 1.3, 1.4, 1.7, 1.5, 1.7, 1.5, 1.0, 1.7, 1.9, 1.6, 1.6, 1.5, 1.4, 1.6, 1.6, 1.5, 1.5, 1.4, 1.5, 1.2, 1.3, 1.4, 1.3, 1.5, 1.3, 1.3, 1.3, 1.6, 1.9, 1.4, 1.6, 1.4, 1.5, 1.4, 4.7, 4.5, 4.9, 4.0, 4.6, 4.5, 4.7, 3.3, 4.6, 3.9, 3.5, 4.2, 4.0, 4.7, 3.6, 4.4, 4.5, 4.1, 4.5, 3.9, 4.8, 4.0, 4.9, 4.7, 4.3, 4.4, 4.8, 5.0, 4.5, 3.5, 3.8, 3.7, 3.9, 5.1, 4.5, 4.5, 4.7, 4.4, 4.1, 4.0, 4.4, 4.6, 4.0, 3.3, 4.2, 4.2, 4.2, 4.3, 3.0, 4.1, 6.0, 5.1, 5.9, 5.6, 5.8, 6.6, 4.5, 6.3, 5.8, 6.1, 5.1, 5.3, 5.5, 5.0, 5.1, 5.3, 5.5, 6.7, 6.9, 5.0, 5.7, 4.9, 6.7, 4.9, 5.7, 6.0, 4.8, 4.9, 5.6, 5.8, 6.1, 6.4, 5.6, 5.1, 5.6, 6.1, 5.6, 5.5, 4.8, 5.4, 5.6, 5.1, 5.1, 5.9, 5.7, 5.2, 5.0, 5.2, 5.4, 5.1], 'petal width (cm)': [0.2, 0.2, 0.2, 0.2, 0.2, 0.4, 0.3, 0.2, 0.2, 0.1, 0.2, 0.2, 0.1, 0.1, 0.2, 0.4, 0.4, 0.3, 0.3, 0.3, 0.2, 0.4, 0.2, 0.5, 0.2, 0.2, 0.4, 0.2, 0.2, 0.2, 0.2, 0.4, 0.1, 0.2, 0.2, 0.2, 0.2, 0.1, 0.2, 0.2, 0.3, 0.3, 0.2, 0.6, 0.4, 0.3, 0.2, 0.2, 0.2, 0.2, 1.4, 1.5, 1.5, 1.3, 1.5, 1.3, 1.6, 1.0, 1.3, 1.4, 1.0, 1.5, 1.0, 1.4, 1.3, 1.4, 1.5, 1.0, 1.5, 1.1, 1.8, 1.3, 1.5, 1.2, 1.3, 1.4, 1.4, 1.7, 1.5, 1.0, 1.1, 1.0, 1.2, 1.6, 1.5, 1.6, 1.5, 1.3, 1.3, 1.3, 1.2, 1.4, 1.2, 1.0, 1.3, 1.2, 1.3, 1.3, 1.1, 1.3, 2.5, 1.9, 2.1, 1.8, 2.2, 2.1, 1.7, 1.8, 1.8, 2.5, 2.0, 1.9, 2.1, 2.0, 2.4, 2.3, 1.8, 2.2, 2.3, 1.5, 2.3, 2.0, 2.0, 1.8, 2.1, 1.8, 1.8, 1.8, 2.1, 1.6, 1.9, 2.0, 2.2, 1.5, 1.4, 2.3, 2.4, 1.8, 1.8, 2.1, 2.4, 2.3, 1.9, 2.3, 2.5, 2.3, 1.9, 2.0, 2.3, 1.8], 'species': ['setosa', 'setosa', 'setosa', 'setosa', 'setosa', 'setosa', 'setosa', 'setosa', 'setosa', 'setosa', 'setosa', 'setosa', 'setosa', 'setosa', 'setosa', 'setosa', 'setosa', 'setosa', 'setosa', 'setosa', 'setosa', 'setosa', 'setosa', 'setosa', 'setosa', 'setosa', 'setosa', 'setosa', 'setosa', 'setosa', 'setosa', 'setosa', 'setosa', 'setosa', 'setosa', 'setosa', 'setosa', 'setosa', 'setosa', 'setosa', 'setosa', 'setosa', 'setosa', 'setosa', 'setosa', 'setosa', 'setosa', 'setosa', 'setosa', 'setosa', 'versicolor', 'versicolor', 'versicolor', 'versicolor', 'versicolor', 'versicolor', 'versicolor', 'versicolor', 'versicolor', 'versicolor', 'versicolor', 'versicolor', 'versicolor', 'versicolor', 'versicolor', 'versicolor', 'versicolor', 'versicolor', 'versicolor', 'versicolor', 'versicolor', 'versicolor', 'versicolor', 'versicolor', 'versicolor', 'versicolor', 'versicolor', 'versicolor', 'versicolor', 'versicolor', 'versicolor', 'versicolor', 'versicolor', 'versicolor', 'versicolor', 'versicolor', 'versicolor', 'versicolor', 'versicolor', 'versicolor', 'versicolor', 'versicolor', 'versicolor', 'versicolor', 'versicolor', 'versicolor', 'versicolor', 'versicolor', 'versicolor', 'versicolor', 'virginica', 'virginica', 'virginica', 'virginica', 'virginica', 'virginica', 'virginica', 'virginica', 'virginica', 'virginica', 'virginica', 'virginica', 'virginica', 'virginica', 'virginica', 'virginica', 'virginica', 'virginica', 'virginica', 'virginica', 'virginica', 'virginica', 'virginica', 'virginica', 'virginica', 'virginica', 'virginica', 'virginica', 'virginica', 'virginica', 'virginica', 'virginica', 'virginica', 'virginica', 'virginica', 'virginica', 'virginica', 'virginica', 'virginica', 'virginica', 'virginica', 'virginica', 'virginica', 'virginica', 'virginica', 'virginica', 'virginica', 'virginica', 'virginica', 'virginica']}"
   ]
  },
  {
   "cell_type": "markdown",
   "metadata": {
    "deletable": false,
    "editable": false,
    "nbgrader": {
     "cell_type": "markdown",
     "checksum": "4a675615ebbac6afb85be24b6dedd67f",
     "grade": false,
     "grade_id": "cell-2adbd9fd2346cd92",
     "locked": true,
     "schema_version": 3,
     "solution": false,
     "task": false
    }
   },
   "source": [
    "## Q9 Compute the average value for each measurement for each species.\n",
    "\n",
    "Put the results in a dict `average_by_species` with the following structure:\n",
    "\n",
    "```\n",
    "{'setosa': {'sepal length (cm)': 5.005999999999999,\n",
    "            'sepal width (cm)': 3.428000000000001},\n",
    " 'versicolor': {'sepal length (cm)': 5.936}}\n",
    "```\n",
    "\n",
    "In total, there should be 3 keys at the top level (the species names) with each value a new dictionary. Each of these per-species dictionaries will have 4 keys - the measurement names. Finally, the value of the per-species dictionaries will be the average value of that measurement.\n",
    "\n",
    "The example dictionary above is correct but incomplete. There are many keys, and their values, that are missing.\n",
    "\n",
    "Hint: use the code from the lecture. This will require substantially more code than the previous answers."
   ]
  },
  {
   "cell_type": "code",
   "execution_count": null,
   "metadata": {
    "deletable": false,
    "nbgrader": {
     "cell_type": "code",
     "checksum": "733fa3174da4d5362699a1e55d876390",
     "grade": false,
     "grade_id": "cell-069495da826776c8",
     "locked": false,
     "schema_version": 3,
     "solution": true,
     "task": false
    }
   },
   "outputs": [],
   "source": [
    "# YOUR CODE HERE\n",
    "raise NotImplementedError()"
   ]
  },
  {
   "cell_type": "code",
   "execution_count": null,
   "metadata": {
    "deletable": false,
    "editable": false,
    "nbgrader": {
     "cell_type": "code",
     "checksum": "d1f8ec09179bff39584bbcb2c365757d",
     "grade": true,
     "grade_id": "cell-250ddb58d79f7e87",
     "locked": true,
     "points": 1,
     "schema_version": 3,
     "solution": false,
     "task": false
    }
   },
   "outputs": [],
   "source": [
    "# If this runs without error, it means the answer in your previous cell was correct.\n",
    "assert ads_hash(average_by_species)=='43d8bb5142'"
   ]
  }
 ],
 "metadata": {
  "kernelspec": {
   "display_name": "Python 3 (ipykernel)",
   "language": "python",
   "name": "python3"
  },
  "language_info": {
   "codemirror_mode": {
    "name": "ipython",
    "version": 3
   },
   "file_extension": ".py",
   "mimetype": "text/x-python",
   "name": "python",
   "nbconvert_exporter": "python",
   "pygments_lexer": "ipython3",
   "version": "3.8.10"
  }
 },
 "nbformat": 4,
 "nbformat_minor": 4
}
